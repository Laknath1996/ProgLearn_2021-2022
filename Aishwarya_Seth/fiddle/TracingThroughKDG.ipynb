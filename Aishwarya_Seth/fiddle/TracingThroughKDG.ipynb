{
 "cells": [
  {
   "cell_type": "code",
   "execution_count": 1,
   "metadata": {},
   "outputs": [],
   "source": [
    "import numpy as np"
   ]
  },
  {
   "cell_type": "code",
   "execution_count": 2,
   "metadata": {},
   "outputs": [],
   "source": [
    "x = np.array([1, 3, 5, 20, 60, 2, 8, 12, 9])"
   ]
  },
  {
   "cell_type": "code",
   "execution_count": 3,
   "metadata": {},
   "outputs": [
    {
     "data": {
      "text/plain": [
       "(array([3, 4, 7, 8]),)"
      ]
     },
     "execution_count": 3,
     "metadata": {},
     "output_type": "execute_result"
    }
   ],
   "source": [
    "np.where(x > 8)"
   ]
  },
  {
   "cell_type": "code",
   "execution_count": 4,
   "metadata": {},
   "outputs": [],
   "source": [
    "predicted_leaf_ids_across_trees = np.array([4,5,6,6,7,4,5,5,4,6])"
   ]
  },
  {
   "cell_type": "code",
   "execution_count": 20,
   "metadata": {},
   "outputs": [
    {
     "name": "stdout",
     "output_type": "stream",
     "text": [
      "[4 5 6 6 7 4 5 5 4 6]\n",
      "4\n",
      "Value:  0 \tMatched_Samples 3\n",
      "IDX:  [0]\n",
      "[4 5 6 6 7 4 5 5 4 6]\n",
      "5\n",
      "Value:  1 \tMatched_Samples 3\n",
      "IDX:  [0]\n",
      "[4 5 6 6 7 4 5 5 4 6]\n",
      "6\n",
      "Value:  2 \tMatched_Samples 3\n",
      "IDX:  [0]\n",
      "[4 5 6 6 7 4 5 5 4 6]\n",
      "6\n",
      "Value:  3 \tMatched_Samples 3\n",
      "IDX:  [0]\n",
      "[4 5 6 6 7 4 5 5 4 6]\n",
      "7\n",
      "Value:  4 \tMatched_Samples 1\n",
      "IDX:  [0]\n"
     ]
    }
   ],
   "source": [
    "for polytope in range(5):\n",
    "                matched_samples = np.sum(\n",
    "                    predicted_leaf_ids_across_trees == predicted_leaf_ids_across_trees[polytope],\n",
    "                    axis=0 #Is =1 in original, but unsure what 2nd dimension contains\n",
    "                )\n",
    "                print(predicted_leaf_ids_across_trees)\n",
    "                print(predicted_leaf_ids_across_trees[polytope])\n",
    "                print(\"Value: \", polytope, \"\\tMatched_Samples\",matched_samples)\n",
    "                \n",
    "                idx = np.where(\n",
    "                    matched_samples>0\n",
    "                )[0]\n",
    "                \n",
    "                print(\"IDX: \",idx)\n",
    "                \n",
    "                #scales = matched_samples[idx]/np.max(matched_samples[idx]) \n",
    "                #         --> Error because matched_samplesis a scalar"
   ]
  },
  {
   "cell_type": "code",
   "execution_count": 18,
   "metadata": {},
   "outputs": [
    {
     "ename": "IndexError",
     "evalue": "invalid index to scalar variable.",
     "output_type": "error",
     "traceback": [
      "\u001b[0;31m---------------------------------------------------------------------------\u001b[0m",
      "\u001b[0;31mIndexError\u001b[0m                                Traceback (most recent call last)",
      "\u001b[0;32m<ipython-input-18-257d94dc36b2>\u001b[0m in \u001b[0;36m<module>\u001b[0;34m\u001b[0m\n\u001b[0;32m----> 1\u001b[0;31m \u001b[0mscales\u001b[0m \u001b[0;34m=\u001b[0m \u001b[0mmatched_samples\u001b[0m\u001b[0;34m[\u001b[0m\u001b[0midx\u001b[0m\u001b[0;34m]\u001b[0m\u001b[0;34m/\u001b[0m\u001b[0mnp\u001b[0m\u001b[0;34m.\u001b[0m\u001b[0mmax\u001b[0m\u001b[0;34m(\u001b[0m\u001b[0mmatched_samples\u001b[0m\u001b[0;34m[\u001b[0m\u001b[0midx\u001b[0m\u001b[0;34m]\u001b[0m\u001b[0;34m)\u001b[0m\u001b[0;34m\u001b[0m\u001b[0;34m\u001b[0m\u001b[0m\n\u001b[0m",
      "\u001b[0;31mIndexError\u001b[0m: invalid index to scalar variable."
     ]
    }
   ],
   "source": []
  },
  {
   "cell_type": "code",
   "execution_count": 14,
   "metadata": {},
   "outputs": [
    {
     "data": {
      "text/plain": [
       "array([0])"
      ]
     },
     "execution_count": 14,
     "metadata": {},
     "output_type": "execute_result"
    }
   ],
   "source": [
    "idx"
   ]
  },
  {
   "cell_type": "code",
   "execution_count": null,
   "metadata": {},
   "outputs": [],
   "source": []
  }
 ],
 "metadata": {
  "kernelspec": {
   "display_name": "Python 3",
   "language": "python",
   "name": "python3"
  },
  "language_info": {
   "codemirror_mode": {
    "name": "ipython",
    "version": 3
   },
   "file_extension": ".py",
   "mimetype": "text/x-python",
   "name": "python",
   "nbconvert_exporter": "python",
   "pygments_lexer": "ipython3",
   "version": "3.7.4"
  }
 },
 "nbformat": 4,
 "nbformat_minor": 2
}
