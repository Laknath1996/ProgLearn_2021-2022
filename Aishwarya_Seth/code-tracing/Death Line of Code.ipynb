{
 "cells": [
  {
   "cell_type": "code",
   "execution_count": 1,
   "id": "5b5bfa03",
   "metadata": {},
   "outputs": [],
   "source": [
    "import os\n",
    "import sys\n",
    "nb_dir = os.path.split(os.getcwd())[0]\n",
    "if nb_dir not in sys.path:\n",
    "    sys.path.append(nb_dir)"
   ]
  },
  {
   "cell_type": "code",
   "execution_count": 24,
   "id": "91943236",
   "metadata": {},
   "outputs": [],
   "source": [
    "from kdg import kdf\n",
    "from kdg.utils import get_ece\n",
    "#import openml\n",
    "import multiprocessing\n",
    "from joblib import Parallel, delayed\n",
    "import numpy as np\n",
    "import pandas as pd\n",
    "from sklearn.model_selection import StratifiedKFold\n",
    "from sklearn.ensemble import RandomForestClassifier as rf\n",
    "from sklearn.metrics import cohen_kappa_score\n",
    "import os\n",
    "from kdg.utils import generate_gaussian_parity, pdf, hellinger, gaussian_sparse_parity\n",
    "from sklearn.utils.validation import check_array, check_is_fitted, check_X_y\n",
    "import keras\n",
    "from keras import layers\n",
    "import tensorflow as tf\n",
    "\n"
   ]
  },
  {
   "cell_type": "code",
   "execution_count": 4,
   "id": "adefc656",
   "metadata": {},
   "outputs": [],
   "source": [
    "n_estimators = 500\n",
    "sample_size = np.logspace(\n",
    "        np.log10(10),\n",
    "        np.log10(5000),\n",
    "        num=10,\n",
    "        endpoint=True,\n",
    "        dtype=int\n",
    ")"
   ]
  },
  {
   "cell_type": "code",
   "execution_count": 6,
   "id": "d8783344",
   "metadata": {},
   "outputs": [
    {
     "name": "stdout",
     "output_type": "stream",
     "text": [
      "10\n",
      "19\n",
      "39\n",
      "79\n",
      "158\n",
      "315\n",
      "629\n",
      "1256\n",
      "2506\n",
      "4999\n"
     ]
    }
   ],
   "source": [
    "for sample in sample_size:\n",
    "    print(sample)"
   ]
  },
  {
   "cell_type": "code",
   "execution_count": 7,
   "id": "c9d37b09",
   "metadata": {},
   "outputs": [],
   "source": [
    "sample = 10"
   ]
  },
  {
   "cell_type": "code",
   "execution_count": 38,
   "id": "91b594af",
   "metadata": {},
   "outputs": [],
   "source": [
    "\n",
    "    network = tf.keras.Sequential()\n",
    "    network.add(tf.keras.layers.Dense(3, activation='relu', input_shape=(2,)))\n",
    "    network.add(tf.keras.layers.Dense(3, activation='relu'))\n",
    "    network.add(tf.keras.layers.Dense(units=2, activation = 'softmax'))\n",
    "\n",
    "    X, y = generate_gaussian_parity(sample, cluster_std=0.5)\n",
    "    X_test, y_test = generate_gaussian_parity(1000, cluster_std=0.5)\n",
    "    p = np.arange(-1,1,step=0.006)\n",
    "    q = np.arange(-1,1,step=0.006)\n",
    "    xx, yy = np.meshgrid(p,q)\n",
    "    grid_samples = np.concatenate(\n",
    "            (\n",
    "                xx.reshape(-1,1),\n",
    "                yy.reshape(-1,1)\n",
    "            ),\n",
    "            axis=1\n",
    "    ) "
   ]
  },
  {
   "cell_type": "code",
   "execution_count": 26,
   "id": "52c82456",
   "metadata": {},
   "outputs": [
    {
     "data": {
      "text/plain": [
       "array([[ 0.35470319, -0.17767971],\n",
       "       [-0.19926039,  0.56886368],\n",
       "       [-0.42184798, -0.57556991],\n",
       "       [-0.57191331, -1.01923075],\n",
       "       [ 0.56082937, -0.40302382],\n",
       "       [-0.38298914,  0.49057148],\n",
       "       [-0.66517986, -0.62874627],\n",
       "       [-0.29986116,  0.21077361],\n",
       "       [ 1.30294519, -0.00348044],\n",
       "       [ 0.57402824, -1.11762278]])"
      ]
     },
     "execution_count": 26,
     "metadata": {},
     "output_type": "execute_result"
    }
   ],
   "source": [
    "X"
   ]
  },
  {
   "cell_type": "code",
   "execution_count": 27,
   "id": "4833a173",
   "metadata": {},
   "outputs": [
    {
     "data": {
      "text/plain": [
       "array([0, 0, 0, 1, 0, 0, 1, 0, 1, 0])"
      ]
     },
     "execution_count": 27,
     "metadata": {},
     "output_type": "execute_result"
    }
   ],
   "source": [
    "y"
   ]
  },
  {
   "cell_type": "code",
   "execution_count": 28,
   "id": "b68fabbf",
   "metadata": {},
   "outputs": [],
   "source": [
    "cov_type = 'full'"
   ]
  },
  {
   "cell_type": "code",
   "execution_count": 29,
   "id": "c7ce0e01",
   "metadata": {},
   "outputs": [],
   "source": [
    "criterion = 'None'"
   ]
  },
  {
   "cell_type": "code",
   "execution_count": 39,
   "id": "1c420c2f",
   "metadata": {},
   "outputs": [],
   "source": [
    "compile_kwargs = {\n",
    "            \"loss\": \"categorical_crossentropy\",\n",
    "            \"optimizer\": tf.keras.optimizers.Adam(3e-4)\n",
    "            }\n",
    "fit_kwargs = {\n",
    "            \"epochs\": 100,\n",
    "            \"batch_size\": 32,\n",
    "            \"verbose\": False\n",
    "            }"
   ]
  },
  {
   "cell_type": "code",
   "execution_count": 45,
   "id": "0d8bc4a1",
   "metadata": {},
   "outputs": [],
   "source": [
    "opt = tf.keras.optimizers.Adam(3e-4)"
   ]
  },
  {
   "cell_type": "code",
   "execution_count": 49,
   "id": "2b40455d",
   "metadata": {},
   "outputs": [],
   "source": [
    "        X, y = check_X_y(X, y)\n",
    "        labels = np.unique(y)\n",
    "\n",
    "        network.compile(loss='categorical_crossentropy', optimizer=opt)\n",
    "\n",
    "        "
   ]
  },
  {
   "cell_type": "code",
   "execution_count": 51,
   "id": "1fc6e726",
   "metadata": {},
   "outputs": [
    {
     "name": "stderr",
     "output_type": "stream",
     "text": [
      "2021-10-07 12:54:36.359711: I tensorflow/compiler/mlir/mlir_graph_optimization_pass.cc:185] None of the MLIR Optimization Passes are enabled (registered 2)\n"
     ]
    },
    {
     "name": "stdout",
     "output_type": "stream",
     "text": [
      "Epoch 1/100\n",
      "1/1 [==============================] - 0s 390ms/step - loss: 0.6705\n",
      "Epoch 2/100\n",
      "1/1 [==============================] - 0s 2ms/step - loss: 0.6703\n",
      "Epoch 3/100\n",
      "1/1 [==============================] - 0s 2ms/step - loss: 0.6700\n",
      "Epoch 4/100\n",
      "1/1 [==============================] - 0s 2ms/step - loss: 0.6698\n",
      "Epoch 5/100\n",
      "1/1 [==============================] - 0s 2ms/step - loss: 0.6696\n",
      "Epoch 6/100\n",
      "1/1 [==============================] - 0s 2ms/step - loss: 0.6693\n",
      "Epoch 7/100\n",
      "1/1 [==============================] - 0s 2ms/step - loss: 0.6691\n",
      "Epoch 8/100\n",
      "1/1 [==============================] - 0s 2ms/step - loss: 0.6688\n",
      "Epoch 9/100\n",
      "1/1 [==============================] - 0s 2ms/step - loss: 0.6686\n",
      "Epoch 10/100\n",
      "1/1 [==============================] - 0s 2ms/step - loss: 0.6684\n",
      "Epoch 11/100\n",
      "1/1 [==============================] - 0s 2ms/step - loss: 0.6681\n",
      "Epoch 12/100\n",
      "1/1 [==============================] - 0s 2ms/step - loss: 0.6679\n",
      "Epoch 13/100\n",
      "1/1 [==============================] - 0s 2ms/step - loss: 0.6676\n",
      "Epoch 14/100\n",
      "1/1 [==============================] - 0s 2ms/step - loss: 0.6674\n",
      "Epoch 15/100\n",
      "1/1 [==============================] - 0s 2ms/step - loss: 0.6671\n",
      "Epoch 16/100\n",
      "1/1 [==============================] - 0s 2ms/step - loss: 0.6669\n",
      "Epoch 17/100\n",
      "1/1 [==============================] - 0s 2ms/step - loss: 0.6666\n",
      "Epoch 18/100\n",
      "1/1 [==============================] - 0s 2ms/step - loss: 0.6664\n",
      "Epoch 19/100\n",
      "1/1 [==============================] - 0s 2ms/step - loss: 0.6662\n",
      "Epoch 20/100\n",
      "1/1 [==============================] - 0s 2ms/step - loss: 0.6659\n",
      "Epoch 21/100\n",
      "1/1 [==============================] - 0s 3ms/step - loss: 0.6657\n",
      "Epoch 22/100\n",
      "1/1 [==============================] - 0s 3ms/step - loss: 0.6655\n",
      "Epoch 23/100\n",
      "1/1 [==============================] - 0s 2ms/step - loss: 0.6653\n",
      "Epoch 24/100\n",
      "1/1 [==============================] - 0s 2ms/step - loss: 0.6650\n",
      "Epoch 25/100\n",
      "1/1 [==============================] - 0s 2ms/step - loss: 0.6648\n",
      "Epoch 26/100\n",
      "1/1 [==============================] - 0s 2ms/step - loss: 0.6646\n",
      "Epoch 27/100\n",
      "1/1 [==============================] - 0s 2ms/step - loss: 0.6644\n",
      "Epoch 28/100\n",
      "1/1 [==============================] - 0s 3ms/step - loss: 0.6642\n",
      "Epoch 29/100\n",
      "1/1 [==============================] - 0s 3ms/step - loss: 0.6640\n",
      "Epoch 30/100\n",
      "1/1 [==============================] - 0s 2ms/step - loss: 0.6638\n",
      "Epoch 31/100\n",
      "1/1 [==============================] - 0s 2ms/step - loss: 0.6635\n",
      "Epoch 32/100\n",
      "1/1 [==============================] - 0s 2ms/step - loss: 0.6633\n",
      "Epoch 33/100\n",
      "1/1 [==============================] - 0s 2ms/step - loss: 0.6631\n",
      "Epoch 34/100\n",
      "1/1 [==============================] - 0s 3ms/step - loss: 0.6629\n",
      "Epoch 35/100\n",
      "1/1 [==============================] - 0s 3ms/step - loss: 0.6627\n",
      "Epoch 36/100\n",
      "1/1 [==============================] - 0s 3ms/step - loss: 0.6625\n",
      "Epoch 37/100\n",
      "1/1 [==============================] - 0s 2ms/step - loss: 0.6623\n",
      "Epoch 38/100\n",
      "1/1 [==============================] - 0s 3ms/step - loss: 0.6620\n",
      "Epoch 39/100\n",
      "1/1 [==============================] - 0s 2ms/step - loss: 0.6618\n",
      "Epoch 40/100\n",
      "1/1 [==============================] - 0s 3ms/step - loss: 0.6616\n",
      "Epoch 41/100\n",
      "1/1 [==============================] - 0s 2ms/step - loss: 0.6614\n",
      "Epoch 42/100\n",
      "1/1 [==============================] - 0s 2ms/step - loss: 0.6612\n",
      "Epoch 43/100\n",
      "1/1 [==============================] - 0s 3ms/step - loss: 0.6610\n",
      "Epoch 44/100\n",
      "1/1 [==============================] - 0s 2ms/step - loss: 0.6608\n",
      "Epoch 45/100\n",
      "1/1 [==============================] - 0s 2ms/step - loss: 0.6605\n",
      "Epoch 46/100\n",
      "1/1 [==============================] - 0s 2ms/step - loss: 0.6603\n",
      "Epoch 47/100\n",
      "1/1 [==============================] - 0s 2ms/step - loss: 0.6601\n",
      "Epoch 48/100\n",
      "1/1 [==============================] - 0s 2ms/step - loss: 0.6599\n",
      "Epoch 49/100\n",
      "1/1 [==============================] - 0s 3ms/step - loss: 0.6597\n",
      "Epoch 50/100\n",
      "1/1 [==============================] - 0s 2ms/step - loss: 0.6595\n",
      "Epoch 51/100\n",
      "1/1 [==============================] - 0s 2ms/step - loss: 0.6593\n",
      "Epoch 52/100\n",
      "1/1 [==============================] - 0s 3ms/step - loss: 0.6590\n",
      "Epoch 53/100\n",
      "1/1 [==============================] - 0s 2ms/step - loss: 0.6588\n",
      "Epoch 54/100\n",
      "1/1 [==============================] - 0s 2ms/step - loss: 0.6586\n",
      "Epoch 55/100\n",
      "1/1 [==============================] - 0s 2ms/step - loss: 0.6584\n",
      "Epoch 56/100\n",
      "1/1 [==============================] - 0s 2ms/step - loss: 0.6582\n",
      "Epoch 57/100\n",
      "1/1 [==============================] - 0s 3ms/step - loss: 0.6580\n",
      "Epoch 58/100\n",
      "1/1 [==============================] - 0s 4ms/step - loss: 0.6577\n",
      "Epoch 59/100\n",
      "1/1 [==============================] - 0s 3ms/step - loss: 0.6575\n",
      "Epoch 60/100\n",
      "1/1 [==============================] - 0s 3ms/step - loss: 0.6573\n",
      "Epoch 61/100\n",
      "1/1 [==============================] - 0s 2ms/step - loss: 0.6571\n",
      "Epoch 62/100\n",
      "1/1 [==============================] - 0s 2ms/step - loss: 0.6569\n",
      "Epoch 63/100\n",
      "1/1 [==============================] - 0s 2ms/step - loss: 0.6567\n",
      "Epoch 64/100\n",
      "1/1 [==============================] - 0s 2ms/step - loss: 0.6565\n",
      "Epoch 65/100\n",
      "1/1 [==============================] - 0s 2ms/step - loss: 0.6564\n",
      "Epoch 66/100\n",
      "1/1 [==============================] - 0s 3ms/step - loss: 0.6562\n",
      "Epoch 67/100\n",
      "1/1 [==============================] - 0s 2ms/step - loss: 0.6560\n",
      "Epoch 68/100\n",
      "1/1 [==============================] - 0s 3ms/step - loss: 0.6558\n",
      "Epoch 69/100\n",
      "1/1 [==============================] - 0s 3ms/step - loss: 0.6556\n",
      "Epoch 70/100\n",
      "1/1 [==============================] - ETA: 0s - loss: 0.655 - 0s 4ms/step - loss: 0.6554\n",
      "Epoch 71/100\n",
      "1/1 [==============================] - 0s 4ms/step - loss: 0.6552\n",
      "Epoch 72/100\n",
      "1/1 [==============================] - 0s 5ms/step - loss: 0.6550\n",
      "Epoch 73/100\n",
      "1/1 [==============================] - 0s 5ms/step - loss: 0.6548\n",
      "Epoch 74/100\n",
      "1/1 [==============================] - 0s 5ms/step - loss: 0.6545\n",
      "Epoch 75/100\n",
      "1/1 [==============================] - 0s 5ms/step - loss: 0.6543\n",
      "Epoch 76/100\n",
      "1/1 [==============================] - 0s 5ms/step - loss: 0.6541\n",
      "Epoch 77/100\n",
      "1/1 [==============================] - 0s 5ms/step - loss: 0.6539\n",
      "Epoch 78/100\n",
      "1/1 [==============================] - 0s 5ms/step - loss: 0.6537\n",
      "Epoch 79/100\n",
      "1/1 [==============================] - 0s 3ms/step - loss: 0.6535\n",
      "Epoch 80/100\n",
      "1/1 [==============================] - 0s 9ms/step - loss: 0.6532\n",
      "Epoch 81/100\n",
      "1/1 [==============================] - 0s 7ms/step - loss: 0.6530\n",
      "Epoch 82/100\n",
      "1/1 [==============================] - 0s 8ms/step - loss: 0.6528\n",
      "Epoch 83/100\n",
      "1/1 [==============================] - 0s 1ms/step - loss: 0.6526\n",
      "Epoch 84/100\n",
      "1/1 [==============================] - 0s 2ms/step - loss: 0.6524\n",
      "Epoch 85/100\n",
      "1/1 [==============================] - 0s 1ms/step - loss: 0.6521\n",
      "Epoch 86/100\n",
      "1/1 [==============================] - 0s 1ms/step - loss: 0.6519\n",
      "Epoch 87/100\n",
      "1/1 [==============================] - 0s 2ms/step - loss: 0.6517\n",
      "Epoch 88/100\n",
      "1/1 [==============================] - 0s 2ms/step - loss: 0.6515\n",
      "Epoch 89/100\n",
      "1/1 [==============================] - 0s 2ms/step - loss: 0.6513\n",
      "Epoch 90/100\n",
      "1/1 [==============================] - 0s 2ms/step - loss: 0.6510\n",
      "Epoch 91/100\n",
      "1/1 [==============================] - 0s 1ms/step - loss: 0.6508\n",
      "Epoch 92/100\n",
      "1/1 [==============================] - 0s 2ms/step - loss: 0.6506\n",
      "Epoch 93/100\n",
      "1/1 [==============================] - 0s 2ms/step - loss: 0.6504\n",
      "Epoch 94/100\n",
      "1/1 [==============================] - 0s 3ms/step - loss: 0.6502\n",
      "Epoch 95/100\n",
      "1/1 [==============================] - 0s 3ms/step - loss: 0.6499\n",
      "Epoch 96/100\n",
      "1/1 [==============================] - 0s 3ms/step - loss: 0.6497\n",
      "Epoch 97/100\n",
      "1/1 [==============================] - 0s 5ms/step - loss: 0.6495\n",
      "Epoch 98/100\n",
      "1/1 [==============================] - 0s 2ms/step - loss: 0.6493\n",
      "Epoch 99/100\n",
      "1/1 [==============================] - 0s 1ms/step - loss: 0.6491\n",
      "Epoch 100/100\n",
      "1/1 [==============================] - 0s 2ms/step - loss: 0.6488\n"
     ]
    }
   ],
   "source": [
    "        network.fit(X, tf.keras.utils.to_categorical(y), epochs = 100, batch_size = 32)\n",
    "        feature_dim = X.shape[1]"
   ]
  },
  {
   "cell_type": "code",
   "execution_count": 55,
   "id": "ceecfd3f",
   "metadata": {},
   "outputs": [],
   "source": [
    "polytope_means = {}\n",
    "polytope_cov = {}"
   ]
  },
  {
   "cell_type": "code",
   "execution_count": 57,
   "id": "ba9bfdc2",
   "metadata": {},
   "outputs": [
    {
     "ename": "NameError",
     "evalue": "name '_get_polytopes' is not defined",
     "output_type": "error",
     "traceback": [
      "\u001b[0;31m---------------------------------------------------------------------------\u001b[0m",
      "\u001b[0;31mNameError\u001b[0m                                 Traceback (most recent call last)",
      "\u001b[0;32m/var/folders/sv/04s29yxx6yngpm3jfb37p8l80000gn/T/ipykernel_15976/3516591955.py\u001b[0m in \u001b[0;36m<module>\u001b[0;34m\u001b[0m\n\u001b[1;32m      4\u001b[0m \u001b[0;34m\u001b[0m\u001b[0m\n\u001b[1;32m      5\u001b[0m     \u001b[0mX_\u001b[0m \u001b[0;34m=\u001b[0m \u001b[0mX\u001b[0m\u001b[0;34m[\u001b[0m\u001b[0mnp\u001b[0m\u001b[0;34m.\u001b[0m\u001b[0mwhere\u001b[0m\u001b[0;34m(\u001b[0m\u001b[0my\u001b[0m\u001b[0;34m==\u001b[0m\u001b[0mlabel\u001b[0m\u001b[0;34m)\u001b[0m\u001b[0;34m[\u001b[0m\u001b[0;36m0\u001b[0m\u001b[0;34m]\u001b[0m\u001b[0;34m]\u001b[0m\u001b[0;34m\u001b[0m\u001b[0;34m\u001b[0m\u001b[0m\n\u001b[0;32m----> 6\u001b[0;31m     \u001b[0mpolytopes\u001b[0m \u001b[0;34m=\u001b[0m \u001b[0m_get_polytopes\u001b[0m\u001b[0;34m(\u001b[0m\u001b[0mX_\u001b[0m\u001b[0;34m)\u001b[0m\u001b[0;34m[\u001b[0m\u001b[0;36m0\u001b[0m\u001b[0;34m]\u001b[0m\u001b[0;34m\u001b[0m\u001b[0;34m\u001b[0m\u001b[0m\n\u001b[0m",
      "\u001b[0;31mNameError\u001b[0m: name '_get_polytopes' is not defined"
     ]
    }
   ],
   "source": [
    "        for label in labels:\n",
    "            polytope_means[label] = []\n",
    "            polytope_cov[label] = []\n",
    "\n",
    "            X_ = X[np.where(y==label)[0]]\n",
    "            "
   ]
  },
  {
   "cell_type": "code",
   "execution_count": null,
   "id": "36e01f5c",
   "metadata": {},
   "outputs": [],
   "source": [
    "polytopes = _get_polytopes(X_)[0]"
   ]
  },
  {
   "cell_type": "code",
   "execution_count": 63,
   "id": "2701f6e6",
   "metadata": {},
   "outputs": [
    {
     "name": "stdout",
     "output_type": "stream",
     "text": [
      "0\n",
      "Weights:  [[-0.48429853  0.16967283  0.46321642]\n",
      " [ 0.12936315 -0.3152606   0.37111613]] \n",
      " Bias:  [ 0.0263411  -0.02107585  0.02876852]\n",
      "\n",
      " Preactivation:  [[ 0.19316466 -0.01507143 -0.24894317]\n",
      " [-0.56373615 -0.0155559   0.9620187 ]\n",
      " [ 0.69883378 -0.43868858 -0.28079765]\n",
      " [ 0.02827443  0.19013682 -0.36151479]\n",
      " [-0.57168339  0.64983249 -0.24505764]\n",
      " [ 0.02950488 -0.09045003  0.1508864 ]\n",
      " [ 0.48168777 -0.34688578 -0.10193336]\n",
      " [-0.29066943  0.39471861 -0.22664913]\n",
      " [-0.02194037  0.02189867  0.02717678]\n",
      " [-0.30197036  0.00314028  0.50925445]]\n",
      "Binary Preactivation:  [[1 0 0]\n",
      " [0 0 1]\n",
      " [1 0 0]\n",
      " [1 1 0]\n",
      " [0 1 0]\n",
      " [1 0 1]\n",
      " [1 0 0]\n",
      " [0 1 0]\n",
      " [0 1 1]\n",
      " [0 1 1]]\n",
      "Last_Activations:  [[ 0.19316466 -0.         -0.        ]\n",
      " [-0.         -0.          0.9620187 ]\n",
      " [ 0.69883378 -0.         -0.        ]\n",
      " [ 0.02827443  0.19013682 -0.        ]\n",
      " [-0.          0.64983249 -0.        ]\n",
      " [ 0.02950488 -0.          0.1508864 ]\n",
      " [ 0.48168777 -0.         -0.        ]\n",
      " [-0.          0.39471861 -0.        ]\n",
      " [-0.          0.02189867  0.02717678]\n",
      " [-0.          0.00314028  0.50925445]]\n",
      "1\n",
      "Weights:  [[ 0.9641425   0.7704066   0.06213863]\n",
      " [-0.9889276  -0.14875758 -0.06531111]\n",
      " [-0.30536354  0.25778925 -0.22578806]] \n",
      " Bias:  [0.01895221 0.02690747 0.02589613]\n",
      "\n",
      " Preactivation:  [[ 2.05190469e-01  1.75722798e-01  3.78991173e-02]\n",
      " [-2.74813224e-01  2.74905549e-01 -1.91316203e-01]\n",
      " [ 6.92727561e-01  5.65293629e-01  6.93207029e-02]\n",
      " [-1.41818764e-01  2.04059790e-02  1.52350173e-02]\n",
      " [-6.23685082e-01 -6.97600408e-02 -1.65451523e-02]\n",
      " [ 1.32391319e-03  8.85351145e-02 -6.33882411e-03]\n",
      " [ 4.83367857e-01  3.98002903e-01  5.58275472e-02]\n",
      " [-3.71395919e-01 -3.18099174e-02  1.16619089e-04]\n",
      " [-1.10027887e-02  3.06557555e-02  1.83297111e-02]\n",
      " [-1.39661039e-01  1.57720650e-01 -8.92925371e-02]]\n",
      "Binary Preactivation:  [[1 1 1]\n",
      " [0 1 0]\n",
      " [1 1 1]\n",
      " [0 1 1]\n",
      " [0 0 0]\n",
      " [1 1 0]\n",
      " [1 1 1]\n",
      " [0 0 1]\n",
      " [0 1 1]\n",
      " [0 1 0]]\n",
      "Last_Activations:  [[ 2.05190469e-01  1.75722798e-01  3.78991173e-02]\n",
      " [-0.00000000e+00  2.74905549e-01 -0.00000000e+00]\n",
      " [ 6.92727561e-01  5.65293629e-01  6.93207029e-02]\n",
      " [-0.00000000e+00  2.04059790e-02  1.52350173e-02]\n",
      " [-0.00000000e+00 -0.00000000e+00 -0.00000000e+00]\n",
      " [ 1.32391319e-03  8.85351145e-02 -0.00000000e+00]\n",
      " [ 4.83367857e-01  3.98002903e-01  5.58275472e-02]\n",
      " [-0.00000000e+00 -0.00000000e+00  1.16619089e-04]\n",
      " [-0.00000000e+00  3.06557555e-02  1.83297111e-02]\n",
      " [-0.00000000e+00  1.57720650e-01 -0.00000000e+00]]\n",
      "2\n",
      "Weights:  [[ 0.04123483 -1.0106486 ]\n",
      " [-0.87244374 -0.03879506]\n",
      " [ 0.94087225  0.4922729 ]] \n",
      " Bias:  [-0.02942547  0.02942547]\n",
      "\n",
      " Preactivation:  [[-0.1386145  -0.16611046]\n",
      " [-0.26926509  0.01876049]\n",
      " [-0.42882593 -0.65848457]\n",
      " [-0.03289433  0.0361336 ]\n",
      " [-0.02942547  0.02942547]\n",
      " [-0.10661278  0.02465273]\n",
      " [-0.30420243 -0.44704774]\n",
      " [-0.02931574  0.02948287]\n",
      " [-0.03892497  0.03725939]\n",
      " [-0.16702786  0.02330668]]\n",
      "Binary Preactivation:  [[0 0]\n",
      " [0 0]\n",
      " [0 0]\n",
      " [0 0]\n",
      " [0 0]\n",
      " [0 0]\n",
      " [0 0]\n",
      " [0 0]\n",
      " [0 0]\n",
      " [0 0]]\n",
      "Last_Activations:  [[-0. -0.]\n",
      " [-0.  0.]\n",
      " [-0. -0.]\n",
      " [-0.  0.]\n",
      " [-0.  0.]\n",
      " [-0.  0.]\n",
      " [-0. -0.]\n",
      " [-0.  0.]\n",
      " [-0.  0.]\n",
      " [-0.  0.]]\n"
     ]
    }
   ],
   "source": [
    "        polytope_memberships = []\n",
    "        last_activations = X\n",
    "        total_layers = len(network.layers)\n",
    "\n",
    "        for layer_id in range(total_layers):\n",
    "            print(layer_id)\n",
    "            weights, bias = network.layers[layer_id].get_weights()\n",
    "            print(\"Weights: \", weights, \"\\n Bias: \", bias)\n",
    "            preactivation = np.matmul(last_activations, weights) + bias\n",
    "            print(\"\\n Preactivation: \", preactivation)\n",
    "            if layer_id == total_layers - 1:\n",
    "                binary_preactivation = (preactivation > 0.5).astype('int')\n",
    "            else:\n",
    "                binary_preactivation = (preactivation > 0).astype('int')\n",
    "            print(\"Binary Preactivation: \", binary_preactivation)\n",
    "            polytope_memberships.append(binary_preactivation)\n",
    "            last_activations = preactivation * binary_preactivation\n",
    "            print(\"Last_Activations: \", last_activations)\n",
    "        "
   ]
  },
  {
   "cell_type": "code",
   "execution_count": 65,
   "id": "f7a3fbdd",
   "metadata": {},
   "outputs": [
    {
     "name": "stdout",
     "output_type": "stream",
     "text": [
      "[array([[1, 0, 0],\n",
      "       [0, 0, 1],\n",
      "       [1, 0, 0],\n",
      "       [1, 1, 0],\n",
      "       [0, 1, 0],\n",
      "       [1, 0, 1],\n",
      "       [1, 0, 0],\n",
      "       [0, 1, 0],\n",
      "       [0, 1, 1],\n",
      "       [0, 1, 1]]), array([[1, 1, 1],\n",
      "       [0, 1, 0],\n",
      "       [1, 1, 1],\n",
      "       [0, 1, 1],\n",
      "       [0, 0, 0],\n",
      "       [1, 1, 0],\n",
      "       [1, 1, 1],\n",
      "       [0, 0, 1],\n",
      "       [0, 1, 1],\n",
      "       [0, 1, 0]]), array([[0, 0],\n",
      "       [0, 0],\n",
      "       [0, 0],\n",
      "       [0, 0],\n",
      "       [0, 0],\n",
      "       [0, 0],\n",
      "       [0, 0],\n",
      "       [0, 0],\n",
      "       [0, 0],\n",
      "       [0, 0]])]\n"
     ]
    }
   ],
   "source": [
    "print(polytope_memberships)"
   ]
  },
  {
   "cell_type": "code",
   "execution_count": 68,
   "id": "3967b46d",
   "metadata": {},
   "outputs": [
    {
     "name": "stdout",
     "output_type": "stream",
     "text": [
      "Concatenated: \n",
      " [[1 0 0 1 1 1 0 0]\n",
      " [0 0 1 0 1 0 0 0]\n",
      " [1 0 0 1 1 1 0 0]\n",
      " [1 1 0 0 1 1 0 0]\n",
      " [0 1 0 0 0 0 0 0]\n",
      " [1 0 1 1 1 0 0 0]\n",
      " [1 0 0 1 1 1 0 0]\n",
      " [0 1 0 0 0 1 0 0]\n",
      " [0 1 1 0 1 1 0 0]\n",
      " [0 1 1 0 1 0 0 0]]\n"
     ]
    }
   ],
   "source": [
    "concatenated = np.concatenate(polytope_memberships, axis = 1)\n",
    "print(\"Concatenated: \\n\", concatenated)"
   ]
  },
  {
   "cell_type": "code",
   "execution_count": 72,
   "id": "717fbdf5",
   "metadata": {},
   "outputs": [
    {
     "name": "stdout",
     "output_type": "stream",
     "text": [
      "(10, 8)\n",
      "8\n"
     ]
    }
   ],
   "source": [
    "num_nodes = np.shape(concatenated)[1]\n",
    "print(np.shape(concatenated))\n",
    "print(np.shape(concatenated)[1])"
   ]
  },
  {
   "cell_type": "code",
   "execution_count": 73,
   "id": "ae3dbb93",
   "metadata": {},
   "outputs": [
    {
     "data": {
      "text/plain": [
       "array([  1,   2,   4,   8,  16,  32,  64, 128])"
      ]
     },
     "execution_count": 73,
     "metadata": {},
     "output_type": "execute_result"
    }
   ],
   "source": [
    "2 ** np.arange(0, num_nodes)"
   ]
  },
  {
   "cell_type": "code",
   "execution_count": 77,
   "id": "009554b9",
   "metadata": {},
   "outputs": [
    {
     "data": {
      "text/plain": [
       "array([57, 20, 57, 51,  2, 29, 57, 34, 54, 22])"
      ]
     },
     "execution_count": 77,
     "metadata": {},
     "output_type": "execute_result"
    }
   ],
   "source": [
    "np.tensordot(concatenated, 2 ** np.arange(0, num_nodes), axes = 1)"
   ]
  },
  {
   "cell_type": "code",
   "execution_count": 78,
   "id": "f8df7bc3",
   "metadata": {},
   "outputs": [
    {
     "data": {
      "text/plain": [
       "[array([57, 20, 57, 51,  2, 29, 57, 34, 54, 22])]"
      ]
     },
     "execution_count": 78,
     "metadata": {},
     "output_type": "execute_result"
    }
   ],
   "source": [
    "[np.tensordot(concatenated, 2 ** np.arange(0, num_nodes), axes = 1)]"
   ]
  },
  {
   "cell_type": "code",
   "execution_count": 76,
   "id": "0bdf1b83",
   "metadata": {},
   "outputs": [],
   "source": [
    "polytope_memberships = [np.tensordot(concatenated, 2 ** np.arange(0, num_nodes), axes = 1)]\n",
    "\n"
   ]
  },
  {
   "cell_type": "code",
   "execution_count": 79,
   "id": "924a6364",
   "metadata": {},
   "outputs": [],
   "source": [
    "polytopes = polytope_memberships[0]#_get_polytopes(X_)[0] #Why is zero needed? Can't we just take it out of array? "
   ]
  },
  {
   "cell_type": "code",
   "execution_count": 61,
   "id": "a2b60c3e",
   "metadata": {},
   "outputs": [
    {
     "data": {
      "text/plain": [
       "array([[-0.40824072, -0.23876052],\n",
       "       [ 1.41752352,  0.74540011],\n",
       "       [-1.20848882,  0.67425176],\n",
       "       [-0.21366528, -0.78495655],\n",
       "       [ 0.77826123, -1.70924809],\n",
       "       [ 0.06101886,  0.25289373],\n",
       "       [-0.77567827,  0.61599326],\n",
       "       [ 0.35303414, -1.12888883],\n",
       "       [ 0.073907  , -0.09653763],\n",
       "       [ 0.76776832,  0.33639883]])"
      ]
     },
     "execution_count": 61,
     "metadata": {},
     "output_type": "execute_result"
    }
   ],
   "source": [
    "X"
   ]
  },
  {
   "cell_type": "code",
   "execution_count": 62,
   "id": "1e9f83d3",
   "metadata": {},
   "outputs": [
    {
     "data": {
      "text/plain": [
       "3"
      ]
     },
     "execution_count": 62,
     "metadata": {},
     "output_type": "execute_result"
    }
   ],
   "source": [
    "total_layers"
   ]
  },
  {
   "cell_type": "code",
   "execution_count": 80,
   "id": "7ad9a773",
   "metadata": {},
   "outputs": [
    {
     "data": {
      "text/plain": [
       "array([57, 20, 57, 51,  2, 29, 57, 34, 54, 22])"
      ]
     },
     "execution_count": 80,
     "metadata": {},
     "output_type": "execute_result"
    }
   ],
   "source": [
    "polytopes"
   ]
  },
  {
   "cell_type": "code",
   "execution_count": 81,
   "id": "d2b88714",
   "metadata": {},
   "outputs": [],
   "source": [
    "polytope = polytopes"
   ]
  },
  {
   "cell_type": "code",
   "execution_count": 83,
   "id": "21cfec22",
   "metadata": {},
   "outputs": [],
   "source": [
    "                idx = np.where(polytopes==polytope)[0]\n",
    "                \n",
    "                if len(idx) == 1:\n",
    "                    print(\"Only 1 element\") #Is this possible?\n",
    "                    \n",
    "                if criterion == None:\n",
    "                    gm = GaussianMixture(n_components=1, covariance_type=self.covariance_types, reg_covar=1e-4).fit(X_[idx])\n",
    "                    self.polytope_means[label].append(\n",
    "                            gm.means_[0]\n",
    "                    )\n",
    "                    tmp_cov = gm.covariances_[0]"
   ]
  },
  {
   "cell_type": "code",
   "execution_count": 84,
   "id": "0fdb51f7",
   "metadata": {},
   "outputs": [
    {
     "data": {
      "text/plain": [
       "array([0, 1, 2, 3, 4, 5, 6, 7, 8, 9])"
      ]
     },
     "execution_count": 84,
     "metadata": {},
     "output_type": "execute_result"
    }
   ],
   "source": [
    "idx"
   ]
  },
  {
   "cell_type": "code",
   "execution_count": null,
   "id": "55f6af75",
   "metadata": {},
   "outputs": [],
   "source": [
    "# PENDING: Other covariance + criterion types "
   ]
  },
  {
   "cell_type": "code",
   "execution_count": null,
   "id": "3ec336d9",
   "metadata": {},
   "outputs": [],
   "source": []
  },
  {
   "cell_type": "code",
   "execution_count": null,
   "id": "a112de5d",
   "metadata": {},
   "outputs": [],
   "source": []
  }
 ],
 "metadata": {
  "kernelspec": {
   "display_name": "Python 3 (ipykernel)",
   "language": "python",
   "name": "python3"
  },
  "language_info": {
   "codemirror_mode": {
    "name": "ipython",
    "version": 3
   },
   "file_extension": ".py",
   "mimetype": "text/x-python",
   "name": "python",
   "nbconvert_exporter": "python",
   "pygments_lexer": "ipython3",
   "version": "3.8.5"
  }
 },
 "nbformat": 4,
 "nbformat_minor": 5
}
