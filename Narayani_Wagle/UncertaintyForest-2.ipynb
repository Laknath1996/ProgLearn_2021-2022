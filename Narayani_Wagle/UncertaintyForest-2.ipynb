{
 "cells": [
  {
   "cell_type": "code",
   "execution_count": 6,
   "id": "0b396a70",
   "metadata": {},
   "outputs": [
    {
     "ename": "ModuleNotFoundError",
     "evalue": "No module named 'functions'",
     "output_type": "error",
     "traceback": [
      "\u001b[1;31m---------------------------------------------------------------------------\u001b[0m",
      "\u001b[1;31mModuleNotFoundError\u001b[0m                       Traceback (most recent call last)",
      "\u001b[1;32m~\\AppData\\Local\\Temp/ipykernel_7320/1596809124.py\u001b[0m in \u001b[0;36m<module>\u001b[1;34m\u001b[0m\n\u001b[0;32m      4\u001b[0m \u001b[1;33m\u001b[0m\u001b[0m\n\u001b[0;32m      5\u001b[0m \u001b[1;32mfrom\u001b[0m \u001b[0mProgLearn\u001b[0m\u001b[1;33m.\u001b[0m\u001b[0mproglearn\u001b[0m\u001b[1;33m.\u001b[0m\u001b[0mforest\u001b[0m \u001b[1;32mimport\u001b[0m \u001b[0mUncertaintyForest\u001b[0m\u001b[1;33m\u001b[0m\u001b[1;33m\u001b[0m\u001b[0m\n\u001b[1;32m----> 6\u001b[1;33m \u001b[1;32mfrom\u001b[0m \u001b[0mfunctions\u001b[0m\u001b[1;33m.\u001b[0m\u001b[0munc_forest_tutorials_functions\u001b[0m \u001b[1;32mimport\u001b[0m \u001b[0mestimate_posterior\u001b[0m\u001b[1;33m,\u001b[0m \u001b[0mplot_fig1\u001b[0m\u001b[1;33m\u001b[0m\u001b[1;33m\u001b[0m\u001b[0m\n\u001b[0m",
      "\u001b[1;31mModuleNotFoundError\u001b[0m: No module named 'functions'"
     ]
    }
   ],
   "source": [
    "import numpy as np\n",
    "from sklearn.ensemble import RandomForestClassifier\n",
    "from sklearn.calibration import CalibratedClassifierCV\n",
    "\n",
    "from ProgLearn.proglearn.forest import UncertaintyForest\n",
    "from functions.unc_forest_tutorials_functions import estimate_posterior, plot_fig1"
   ]
  },
  {
   "cell_type": "code",
   "execution_count": 7,
   "id": "6c982772",
   "metadata": {},
   "outputs": [],
   "source": [
    "# The following are two sets of parameters.\n",
    "# The first are those that were actually used to produce Figure 1.\n",
    "# These take a long time to actually run since there are 6000 data points.\n",
    "# Below those, you'll find some scaled-down parameters so that you can see the results more quickly.\n",
    "\n",
    "# Here are the paper reproduction parameters\n",
    "#n = 6000\n",
    "#mean = 1\n",
    "#var = 1\n",
    "#num_trials = 100\n",
    "#X_eval = np.linspace(-2, 2, num = 30).reshape(-1, 1)\n",
    "#n_estimators = 300\n",
    "#num_plotted_trials = 10\n",
    "\n",
    "# Here are the scaled-down tutorial parameters\n",
    "n = 300 # number of data points\n",
    "mean = 1 # mean of the data\n",
    "var = 1 # variance of the data\n",
    "num_trials = 3 # number of trials to run\n",
    "X_eval = np.linspace(-2, 2, num = 10).reshape(-1, 1) # the evaluation span (over X) for the plot\n",
    "n_estimators = 200 # the number of estimators\n",
    "num_plotted_trials = 2 # the number of \"fainter\" lines to be displayed on the figure"
   ]
  },
  {
   "cell_type": "code",
   "execution_count": 8,
   "id": "6a5b723f",
   "metadata": {},
   "outputs": [],
   "source": [
    "# Algorithms used to produce Figure 1\n",
    "algos = [\n",
    "    {\n",
    "        'instance': RandomForestClassifier(n_estimators = n_estimators),\n",
    "        'label': 'CART',\n",
    "        'title': 'CART Forest',\n",
    "        'color': \"#1b9e77\",\n",
    "    },\n",
    "    {\n",
    "        'instance': CalibratedClassifierCV(base_estimator=RandomForestClassifier(n_estimators = n_estimators // 5),\n",
    "                                           method='isotonic',\n",
    "                                           cv = 5),\n",
    "        'label': 'IRF',\n",
    "        'title': 'Isotonic Reg. Forest',\n",
    "        'color': \"#fdae61\",\n",
    "    },\n",
    "    {\n",
    "        'instance': UncertaintyForest(n_estimators = n_estimators, tree_construction_proportion = 0.4, kappa = 3.0),\n",
    "        'label': 'UF',\n",
    "        'title': 'Uncertainty Forest',\n",
    "        'color': \"#F41711\",\n",
    "    },\n",
    "]\n",
    "\n",
    "# Plotting parameters\n",
    "parallel = False"
   ]
  },
  {
   "cell_type": "code",
   "execution_count": null,
   "id": "e346c4dc",
   "metadata": {},
   "outputs": [],
   "source": [
    "# This is the code that actually generates data and predictions.\n",
    "for algo in algos:\n",
    "    algo['predicted_posterior'] = estimate_posterior(algo, n, mean, var, num_trials, X_eval, parallel = parallel)"
   ]
  },
  {
   "cell_type": "code",
   "execution_count": null,
   "id": "96e22d6b",
   "metadata": {},
   "outputs": [],
   "source": [
    "plot_fig1(algos, num_plotted_trials, X_eval, n, mean, var)"
   ]
  }
 ],
 "metadata": {
  "kernelspec": {
   "display_name": "Python 3 (ipykernel)",
   "language": "python",
   "name": "python3"
  },
  "language_info": {
   "codemirror_mode": {
    "name": "ipython",
    "version": 3
   },
   "file_extension": ".py",
   "mimetype": "text/x-python",
   "name": "python",
   "nbconvert_exporter": "python",
   "pygments_lexer": "ipython3",
   "version": "3.9.7"
  }
 },
 "nbformat": 4,
 "nbformat_minor": 5
}
