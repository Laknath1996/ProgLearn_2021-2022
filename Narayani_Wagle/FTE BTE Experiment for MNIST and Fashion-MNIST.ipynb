{
 "cells": [
  {
   "cell_type": "code",
   "execution_count": 5,
   "id": "995e0a9d",
   "metadata": {},
   "outputs": [],
   "source": [
    "import numpy as np\n",
    "import keras\n",
    "\n",
    "#import functions.fte_bte_mnist_functions as fn"
   ]
  },
  {
   "cell_type": "code",
   "execution_count": 6,
   "id": "43e87e14",
   "metadata": {},
   "outputs": [],
   "source": [
    "(MNIST_x_train, MNIST_y_train), (MNIST_x_test, MNIST_y_test) = keras.datasets.mnist.load_data()\n",
    "\n",
    "MNIST_x_data = np.concatenate((MNIST_x_train, MNIST_x_test))\n",
    "MNIST_y_data = np.concatenate((MNIST_y_train, MNIST_y_test))"
   ]
  },
  {
   "cell_type": "code",
   "execution_count": null,
   "id": "cb458b07",
   "metadata": {},
   "outputs": [],
   "source": [
    "(FASHION_x_train, FASHION_y_train), (FASHION_x_test, FASHION_y_test) = keras.datasets.fashion_mnist.load_data()\n",
    "\n",
    "FASHION_x_data = np.concatenate((FASHION_x_train, FASHION_x_test))\n",
    "FASHION_y_data = np.concatenate((FASHION_y_train, FASHION_y_test))"
   ]
  },
  {
   "cell_type": "code",
   "execution_count": null,
   "id": "00c45eed",
   "metadata": {},
   "outputs": [],
   "source": [
    "### MAIN HYPERPARAMS ###\n",
    "model = \"uf\"\n",
    "num_tasks = 5\n",
    "num_trees = 10\n",
    "num_points_per_task=500\n",
    "reps = 100\n",
    "########################\n"
   ]
  },
  {
   "cell_type": "code",
   "execution_count": null,
   "id": "8f3b312d",
   "metadata": {},
   "outputs": [],
   "source": [
    "accuracy_all_task = fn.run_experiment(MNIST_x_data, MNIST_y_data, num_tasks, num_points_per_task)"
   ]
  },
  {
   "cell_type": "code",
   "execution_count": null,
   "id": "1725818c",
   "metadata": {},
   "outputs": [],
   "source": [
    "acc, bte, fte, te = fn.calculate_results(accuracy_all_task, num_tasks)\n",
    "fn.plot_results(acc, bte, fte, te)"
   ]
  },
  {
   "cell_type": "code",
   "execution_count": null,
   "id": "3641dab4",
   "metadata": {},
   "outputs": [],
   "source": [
    "accuracy_all_task = fn.run_experiment(FASHION_x_data, FASHION_y_data, num_tasks, num_points_per_task)"
   ]
  },
  {
   "cell_type": "code",
   "execution_count": null,
   "id": "37d5bfff",
   "metadata": {},
   "outputs": [],
   "source": [
    "acc, bte, fte, te = fn.calculate_results(accuracy_all_task, num_tasks)\n",
    "fn.plot_results(acc, bte, fte, te)"
   ]
  },
  {
   "cell_type": "code",
   "execution_count": null,
   "id": "f429f953",
   "metadata": {},
   "outputs": [],
   "source": [
    "### MAIN HYPERPARAMS ###\n",
    "model = \"uf\"\n",
    "num_tasks = 2\n",
    "num_trees = 10\n",
    "num_points_per_task=500\n",
    "reps = 100\n",
    "########################"
   ]
  },
  {
   "cell_type": "code",
   "execution_count": null,
   "id": "7fe0f539",
   "metadata": {},
   "outputs": [],
   "source": [
    "x_data = np.concatenate((FASHION_x_data, MNIST_x_data))\n",
    "y_data = np.concatenate((FASHION_y_data, MNIST_y_data + 10))"
   ]
  },
  {
   "cell_type": "code",
   "execution_count": null,
   "id": "0b949996",
   "metadata": {},
   "outputs": [],
   "source": [
    "accuracy_all_task = fn.run_experiment(x_data, y_data, num_tasks, num_points_per_task)"
   ]
  },
  {
   "cell_type": "code",
   "execution_count": null,
   "id": "b05c52d3",
   "metadata": {},
   "outputs": [],
   "source": [
    "acc, bte, fte, te = fn.calculate_results(accuracy_all_task, num_tasks)\n",
    "fn.plot_results(acc, bte, fte, te)"
   ]
  }
 ],
 "metadata": {
  "kernelspec": {
   "display_name": "Python 3 (ipykernel)",
   "language": "python",
   "name": "python3"
  },
  "language_info": {
   "codemirror_mode": {
    "name": "ipython",
    "version": 3
   },
   "file_extension": ".py",
   "mimetype": "text/x-python",
   "name": "python",
   "nbconvert_exporter": "python",
   "pygments_lexer": "ipython3",
   "version": "3.9.7"
  }
 },
 "nbformat": 4,
 "nbformat_minor": 5
}
