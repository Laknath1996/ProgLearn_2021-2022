{
 "cells": [
  {
   "cell_type": "code",
   "execution_count": 3,
   "id": "4d043311",
   "metadata": {},
   "outputs": [],
   "source": [
    "from ProgLearn.proglearn.forest import UncertaintyForest\n",
    "from ProgLearn.proglearn.sims import generate_gaussian_parity"
   ]
  },
  {
   "cell_type": "code",
   "execution_count": 4,
   "id": "a04b45fd",
   "metadata": {},
   "outputs": [],
   "source": [
    "# Real Params.\n",
    "n_train = 10000 # number of training data points\n",
    "n_test = 1000 # number of testing data points\n",
    "num_trials = 10 # number of trials\n",
    "n_estimators = 100 # number of estimators"
   ]
  },
  {
   "cell_type": "code",
   "execution_count": 5,
   "id": "b840a1ae",
   "metadata": {},
   "outputs": [],
   "source": [
    "X, y = generate_gaussian_parity(n_train+n_test)"
   ]
  },
  {
   "cell_type": "code",
   "execution_count": 6,
   "id": "79c05e9a",
   "metadata": {},
   "outputs": [],
   "source": [
    "X_train = X[0:n_train] # Takes the first n_train number of data points and saves as X_train\n",
    "y_train = y[0:n_train] # same as above for the labels\n",
    "X_test = X[n_train:] # Takes the remainder of the data (n_test data points) and saves as X_test\n",
    "y_test = y[n_train:] # same as above for the labels"
   ]
  },
  {
   "cell_type": "code",
   "execution_count": 7,
   "id": "d544e215",
   "metadata": {},
   "outputs": [],
   "source": [
    "UF = UncertaintyForest(n_estimators = n_estimators)"
   ]
  },
  {
   "cell_type": "code",
   "execution_count": 8,
   "id": "fc795ba8",
   "metadata": {},
   "outputs": [
    {
     "data": {
      "text/plain": [
       "<ProgLearn.proglearn.progressive_learner.ClassificationProgressiveLearner at 0x175faaa6280>"
      ]
     },
     "execution_count": 8,
     "metadata": {},
     "output_type": "execute_result"
    }
   ],
   "source": [
    "UF.fit(X_train, y_train)"
   ]
  },
  {
   "cell_type": "code",
   "execution_count": 9,
   "id": "979593a4",
   "metadata": {},
   "outputs": [],
   "source": [
    "X_test, y_test = generate_gaussian_parity(n_test) # creates the test data"
   ]
  },
  {
   "cell_type": "code",
   "execution_count": 10,
   "id": "835e094c",
   "metadata": {},
   "outputs": [],
   "source": [
    "predictions = UF.predict(X_test) # predict the class labels of the test data"
   ]
  },
  {
   "cell_type": "code",
   "execution_count": 11,
   "id": "24f3d389",
   "metadata": {},
   "outputs": [],
   "source": [
    "accuracy = sum(predictions == y_test)/n_test"
   ]
  },
  {
   "cell_type": "code",
   "execution_count": 12,
   "id": "dbd05e8e",
   "metadata": {},
   "outputs": [
    {
     "name": "stdout",
     "output_type": "stream",
     "text": [
      "0.957\n"
     ]
    }
   ],
   "source": [
    "print(accuracy)"
   ]
  }
 ],
 "metadata": {
  "kernelspec": {
   "display_name": "Python 3 (ipykernel)",
   "language": "python",
   "name": "python3"
  },
  "language_info": {
   "codemirror_mode": {
    "name": "ipython",
    "version": 3
   },
   "file_extension": ".py",
   "mimetype": "text/x-python",
   "name": "python",
   "nbconvert_exporter": "python",
   "pygments_lexer": "ipython3",
   "version": "3.9.7"
  }
 },
 "nbformat": 4,
 "nbformat_minor": 5
}
