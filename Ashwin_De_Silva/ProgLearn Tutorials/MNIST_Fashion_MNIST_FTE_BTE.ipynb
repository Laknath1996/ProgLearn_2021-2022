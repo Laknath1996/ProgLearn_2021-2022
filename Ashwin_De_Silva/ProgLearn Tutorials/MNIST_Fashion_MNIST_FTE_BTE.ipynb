{
 "cells": [
  {
   "cell_type": "markdown",
   "source": [
    "# FTE/BTE Experiment for MNIST & Fashion-MNIST"
   ],
   "metadata": {}
  },
  {
   "cell_type": "code",
   "execution_count": 1,
   "source": [
    "import numpy as np\n",
    "import keras\n",
    "\n",
    "import functions.fte_bte_mnist_functions as fn"
   ],
   "outputs": [],
   "metadata": {}
  },
  {
   "cell_type": "code",
   "execution_count": 2,
   "source": [
    "(MNIST_x_train, MNIST_y_train), (MNIST_x_test, MNIST_y_test) = keras.datasets.mnist.load_data()\n",
    "\n",
    "MNIST_x_data = np.concatenate((MNIST_x_train, MNIST_x_test))\n",
    "MNIST_y_data = np.concatenate((MNIST_y_train, MNIST_y_test))"
   ],
   "outputs": [
    {
     "output_type": "stream",
     "name": "stdout",
     "text": [
      "Downloading data from https://storage.googleapis.com/tensorflow/tf-keras-datasets/mnist.npz\n",
      "11493376/11490434 [==============================] - 1s 0us/step\n",
      "11501568/11490434 [==============================] - 1s 0us/step\n"
     ]
    }
   ],
   "metadata": {}
  },
  {
   "cell_type": "code",
   "execution_count": 3,
   "source": [
    "(FASHION_x_train, FASHION_y_train), (FASHION_x_test, FASHION_y_test) = keras.datasets.fashion_mnist.load_data()\n",
    "\n",
    "FASHION_x_data = np.concatenate((FASHION_x_train, FASHION_x_test))\n",
    "FASHION_y_data = np.concatenate((FASHION_y_train, FASHION_y_test))"
   ],
   "outputs": [
    {
     "output_type": "stream",
     "name": "stdout",
     "text": [
      "Downloading data from https://storage.googleapis.com/tensorflow/tf-keras-datasets/train-labels-idx1-ubyte.gz\n",
      "32768/29515 [=================================] - 0s 3us/step\n",
      "40960/29515 [=========================================] - 0s 3us/step\n",
      "Downloading data from https://storage.googleapis.com/tensorflow/tf-keras-datasets/train-images-idx3-ubyte.gz\n",
      "26427392/26421880 [==============================] - 4s 0us/step\n",
      "26435584/26421880 [==============================] - 4s 0us/step\n",
      "Downloading data from https://storage.googleapis.com/tensorflow/tf-keras-datasets/t10k-labels-idx1-ubyte.gz\n",
      "16384/5148 [===============================================================================================] - 0s 0us/step\n",
      "Downloading data from https://storage.googleapis.com/tensorflow/tf-keras-datasets/t10k-images-idx3-ubyte.gz\n",
      "4423680/4422102 [==============================] - 1s 0us/step\n",
      "4431872/4422102 [==============================] - 1s 0us/step\n"
     ]
    }
   ],
   "metadata": {}
  },
  {
   "cell_type": "code",
   "execution_count": 4,
   "source": [
    "### MAIN HYPERPARAMS ###\n",
    "model = \"uf\"\n",
    "num_tasks = 5\n",
    "num_trees = 10\n",
    "num_points_per_task=500\n",
    "reps = 100\n",
    "########################"
   ],
   "outputs": [],
   "metadata": {}
  },
  {
   "cell_type": "code",
   "execution_count": 5,
   "source": [
    "accuracy_all_task = fn.run_experiment(MNIST_x_data, MNIST_y_data, num_tasks, num_points_per_task)\n"
   ],
   "outputs": [],
   "metadata": {}
  },
  {
   "cell_type": "code",
   "execution_count": null,
   "source": [
    "acc, bte, fte, te = fn.calculate_results(accuracy_all_task, num_tasks)\n",
    "fn.plot_results(acc, bte, fte, te)"
   ],
   "outputs": [],
   "metadata": {}
  }
 ],
 "metadata": {
  "orig_nbformat": 4,
  "language_info": {
   "name": "python",
   "version": "3.6.13",
   "mimetype": "text/x-python",
   "codemirror_mode": {
    "name": "ipython",
    "version": 3
   },
   "pygments_lexer": "ipython3",
   "nbconvert_exporter": "python",
   "file_extension": ".py"
  },
  "kernelspec": {
   "name": "python3",
   "display_name": "Python 3.6.13 64-bit ('proglearn_env': conda)"
  },
  "interpreter": {
   "hash": "a3726f721349cec3afa87e897e99e164d468ae352f010c92d99a7a57241bce09"
  }
 },
 "nbformat": 4,
 "nbformat_minor": 2
}