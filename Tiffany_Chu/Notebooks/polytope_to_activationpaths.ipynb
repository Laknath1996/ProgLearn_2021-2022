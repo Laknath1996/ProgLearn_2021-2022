{
  "nbformat": 4,
  "nbformat_minor": 0,
  "metadata": {
    "colab": {
      "name": "polytope_to_activationpaths.ipynb",
      "provenance": []
    },
    "kernelspec": {
      "name": "python3",
      "display_name": "Python 3"
    },
    "language_info": {
      "name": "python"
    }
  },
  "cells": [
    {
      "cell_type": "code",
      "metadata": {
        "id": "yroE_k5tuSh5"
      },
      "source": [
        "import numpy as np\n",
        "import timeit"
      ],
      "execution_count": 2,
      "outputs": []
    },
    {
      "cell_type": "code",
      "metadata": {
        "id": "kCrmM0NfiT5U"
      },
      "source": [
        "def get_activation_paths(polytopes):\n",
        "  n_samples = polytopes[0].shape[0]\n",
        "  #reverse to save on calculation time using smaller later layers\n",
        "  polytope_r = polytopes[::-1]\n",
        "  place = [1]\n",
        "  for layer in polytope_r:\n",
        "    p = place[-1]\n",
        "    place.append(p*layer.shape[1])\n",
        "\n",
        "  #set error code\n",
        "  #this value ensures final output will be negative for all nodes and code will run\n",
        "  err = np.array([-place[-1]])\n",
        "  #get paths values\n",
        "  paths = [np.zeros(1, dtype=int) for n in range(n_samples)]\n",
        "  for i, layer in enumerate(polytope_r):\n",
        "    idx = layer*np.arange(layer.shape[1])*place[i]\n",
        "    temp_paths = [None for n in range(n_samples)]\n",
        "    for j in range(n_samples):\n",
        "      active_nodes = idx[j, layer[j,:]>0]\n",
        "      if len(active_nodes) == 0:\n",
        "        temp_paths[j] = err\n",
        "      else: \n",
        "        temp_paths[j] = np.concatenate([p + active_nodes for p in paths[j]])\n",
        "        \n",
        "    paths = temp_paths\n",
        "    #print(paths)\n",
        "    \n",
        "  #convert to binary\n",
        "  activation_paths = np.zeros((n_samples, place[-1]))\n",
        "  for i, p in enumerate(paths):\n",
        "    #if error occured, return None\n",
        "    if any(p < 0): activation_paths[i] = -1\n",
        "    else: activation_paths[i, p] = 1\n",
        "\n",
        "  return activation_paths"
      ],
      "execution_count": 3,
      "outputs": []
    },
    {
      "cell_type": "code",
      "metadata": {
        "id": "qkkPbUPciTZ6"
      },
      "source": [
        "def get_activation_paths_2(polytopes):\n",
        "  n_samples = polytopes[0].shape[0]\n",
        "  #reverse to match old algorithm on calculation time using smaller later layers\n",
        "  #polytopes = polytopes[::-1]\n",
        "  place = [1]\n",
        "  for layer in polytopes:\n",
        "    p = place[-1]\n",
        "    place.append(p*layer.shape[1])\n",
        "  paths = np.zeros((n_samples, place[-1]), dtype=int)\n",
        "  for i, layer in enumerate(polytopes):\n",
        "    #expand layer to match place\n",
        "    tiled_cols = [np.tile(layer[:,col], reps = [place[i], 1]) for col in range(layer.shape[1])]\n",
        "    #combine into single layer of binary activations\n",
        "    tiled_layer = np.concatenate(tiled_cols, axis=0).T\n",
        "    #print(f\"Expanded: {tiled_layer.shape}\")\n",
        "    ntiles = int(place[-1]/tiled_layer.shape[1])\n",
        "    #add activated nodes to paths\n",
        "    paths = paths + np.tile(tiled_layer, reps=[1, ntiles])\n",
        "  \n",
        "  #select only paths which were activated at every step\n",
        "  activation_paths = (paths == len(polytopes)) * 1\n",
        "  #activation_paths[np.all(activation_paths == 0, axis = 1)] = -1\n",
        "  return activation_paths"
      ],
      "execution_count": 4,
      "outputs": []
    },
    {
      "cell_type": "code",
      "metadata": {
        "colab": {
          "base_uri": "https://localhost:8080/"
        },
        "id": "q0uo_S1guYZ1",
        "outputId": "86665ad5-a82a-4f81-ea22-5f492da5d4fc"
      },
      "source": [
        "#small network\n",
        "\n",
        "network_shape = [5, 5, 2]\n",
        "n_samples = 10000\n",
        "\n",
        "#create a random string of binary numbers for \"activations\"\n",
        "polytope = [np.rint(np.random.rand(n_samples, l)).astype(int) for l in network_shape]\n",
        "\n",
        "for p in polytope:\n",
        "  print(p.shape)\n",
        "\n",
        "timer1 = timeit.Timer(lambda: get_activation_paths(polytope))\n",
        "timer2 = timeit.Timer(lambda: get_activation_paths_2(polytope))\n",
        "\n",
        "print(f\"Runtime for algorithm 1: {timer1.timeit(number=1)}\")\n",
        "print(f\"Runtime for algorithm 2: {timer2.timeit(number=1)}\")"
      ],
      "execution_count": 5,
      "outputs": [
        {
          "output_type": "stream",
          "name": "stdout",
          "text": [
            "(10000, 5)\n",
            "(10000, 5)\n",
            "(10000, 2)\n",
            "Runtime for algorithm 1: 0.33779384500030574\n",
            "Runtime for algorithm 2: 0.022430705999795464\n"
          ]
        }
      ]
    },
    {
      "cell_type": "code",
      "metadata": {
        "colab": {
          "base_uri": "https://localhost:8080/"
        },
        "id": "_7srheUynOnO",
        "outputId": "53566441-1fae-4c33-cbc3-e1c34a336853"
      },
      "source": [
        "#medium network\n",
        "network_shape = [10, 10, 2]\n",
        "n_samples = 10000\n",
        "\n",
        "#create a random string of binary numbers for \"activations\"\n",
        "polytope = [np.rint(np.random.rand(n_samples, l)).astype(int) for l in network_shape]\n",
        "\n",
        "for p in polytope:\n",
        "  print(p.shape)\n",
        "\n",
        "timer1 = timeit.Timer(lambda: get_activation_paths(polytope))\n",
        "timer2 = timeit.Timer(lambda: get_activation_paths_2(polytope))\n",
        "\n",
        "print(f\"Runtime for algorithm 1: {timer1.timeit(number=1)}\")\n",
        "print(f\"Runtime for algorithm 2: {timer2.timeit(number=1)}\")"
      ],
      "execution_count": 6,
      "outputs": [
        {
          "output_type": "stream",
          "name": "stdout",
          "text": [
            "(10000, 10)\n",
            "(10000, 10)\n",
            "(10000, 2)\n",
            "Runtime for algorithm 1: 0.42250384599992685\n",
            "Runtime for algorithm 2: 0.06508385799997995\n"
          ]
        }
      ]
    },
    {
      "cell_type": "code",
      "metadata": {
        "colab": {
          "base_uri": "https://localhost:8080/"
        },
        "id": "7UUzi1hZq3bZ",
        "outputId": "7ed90c27-b935-402f-c3bd-d0271c5ffa12"
      },
      "source": [
        "#kdcnn dense network\n",
        "network_shape = [20, 20, 20, 10]\n",
        "n_samples = 1000\n",
        "\n",
        "#create a random string of binary numbers for \"activations\"\n",
        "polytope = [np.rint(np.random.rand(n_samples, l)).astype(int) for l in network_shape]\n",
        "\n",
        "for p in polytope:\n",
        "  print(p.shape)\n",
        "\n",
        "timer1 = timeit.Timer(lambda: get_activation_paths(polytope))\n",
        "timer2 = timeit.Timer(lambda: get_activation_paths_2(polytope))\n",
        "\n",
        "print(f\"Runtime for algorithm 1: {timer1.timeit(number=1)}\")\n",
        "print(f\"Runtime for algorithm 2: {timer2.timeit(number=1)}\")"
      ],
      "execution_count": 7,
      "outputs": [
        {
          "output_type": "stream",
          "name": "stdout",
          "text": [
            "(1000, 20)\n",
            "(1000, 20)\n",
            "(1000, 20)\n",
            "(1000, 10)\n",
            "Runtime for algorithm 1: 1.594338377999975\n",
            "Runtime for algorithm 2: 2.744605806999971\n"
          ]
        }
      ]
    },
    {
      "cell_type": "code",
      "metadata": {
        "colab": {
          "base_uri": "https://localhost:8080/"
        },
        "id": "vSzIXr5IogQo",
        "outputId": "deaf556b-9c47-44df-eac7-d72da9fb5ef5"
      },
      "source": [
        "n_samples = 5\n",
        "polytope0 = [np.zeros((n_samples, l), dtype=int) for l in network_shape]\n",
        "polytope1 = [np.ones((n_samples, l), dtype=int) for l in network_shape]\n",
        "\n",
        "print(np.unique(get_activation_paths(polytope0), axis=1))\n",
        "print(np.unique(get_activation_paths_2(polytope0), axis=1))\n",
        "print(np.unique(get_activation_paths(polytope1), axis=1))\n",
        "print(np.unique(get_activation_paths_2(polytope1), axis=1))"
      ],
      "execution_count": 8,
      "outputs": [
        {
          "output_type": "stream",
          "name": "stdout",
          "text": [
            "[[-1.]\n",
            " [-1.]\n",
            " [-1.]\n",
            " [-1.]\n",
            " [-1.]]\n",
            "[[0]\n",
            " [0]\n",
            " [0]\n",
            " [0]\n",
            " [0]]\n",
            "[[1.]\n",
            " [1.]\n",
            " [1.]\n",
            " [1.]\n",
            " [1.]]\n",
            "[[1]\n",
            " [1]\n",
            " [1]\n",
            " [1]\n",
            " [1]]\n"
          ]
        }
      ]
    }
  ]
}