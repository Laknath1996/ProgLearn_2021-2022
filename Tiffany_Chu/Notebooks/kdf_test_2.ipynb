{
 "cells": [
  {
   "cell_type": "code",
   "execution_count": 19,
   "id": "f725b9ba-bffb-499c-b10d-a8ddf08257bf",
   "metadata": {},
   "outputs": [
    {
     "name": "stdout",
     "output_type": "stream",
     "text": [
      "Hello World!\n",
      "(6433, 29)\n",
      "Made Encoder\n",
      "(6433, 16)\n"
     ]
    }
   ],
   "source": [
    "import pandas as pd\n",
    "import numpy as np\n",
    "from sklearn.preprocessing import OneHotEncoder\n",
    "from kdg import kdf\n",
    "\n",
    "print(\"Hello World!\")\n",
    "\n",
    "#load data\n",
    "url = \"https://raw.githubusercontent.com/NeuroDataDesign/ProgLearn_2021-2022/main/Tiffany_Chu/NHANES_Data/CSV/q_cardiovascular.csv\"\n",
    "cardio = pd.read_csv(url)\n",
    "cs = list(cardio[\"SEQN\"])\n",
    "\n",
    "#CDQ001 - Presence of Chest Pain\n",
    "#CDQ010 - Shortness of Breath\n",
    "\n",
    "url = \"https://raw.githubusercontent.com/NeuroDataDesign/ProgLearn_2021-2022/main/Tiffany_Chu/NHANES_Data/CSV/demog.csv\"\n",
    "demog = pd.read_csv(url)\n",
    "\n",
    "#RIAGENDR - Gender\n",
    "#RIDAGEYR - Age in years at screening \n",
    "#RIDRETH3 - Race/Hispanic origin w/ NH Asian\n",
    "#DMDEDUC2 - Education level - Adults 20+\n",
    "\n",
    "#filter demog to match cs\n",
    "demog = demog[demog[\"SEQN\"].isin(cardio[\"SEQN\"])]\n",
    "\n",
    "print(demog.shape)\n",
    "\n",
    "#OneHotEncode RIAGENDR, RIDRETH3, DMDEDUC2\n",
    "\n",
    "enc = OneHotEncoder()\n",
    "\n",
    "print(\"Made Encoder\")\n",
    "\n",
    "onehot = demog[[\"RIAGENDR\", \"RIDRETH3\", \"DMDEDUC2\"]]\n",
    "enc.fit(onehot)\n",
    "X = np.concatenate((demog[\"RIDAGEYR\"].to_numpy().reshape(-1, 1),\n",
    "                    enc.transform(onehot).toarray()), axis=1)\n",
    "\n",
    "print(X.shape)"
   ]
  },
  {
   "cell_type": "code",
   "execution_count": 30,
   "id": "4687cdad-2d57-4b91-ad76-bc2d6d51ce98",
   "metadata": {},
   "outputs": [
    {
     "name": "stdout",
     "output_type": "stream",
     "text": [
      "0    0\n",
      "1    1\n",
      "2    0\n",
      "3    0\n",
      "4    1\n",
      "Name: CDQ001, dtype: int64\n"
     ]
    }
   ],
   "source": [
    "#bag data, using 50% for training, 50% for testing\n",
    "rng = np.random.default_rng(12345)\n",
    "bag = rng.random(foo.shape[0]) <= 0.5\n",
    "oob = np.logical_not(bag)\n",
    "\n",
    "Y = cardio[\"CDQ001\"]-1\n",
    "\n",
    "print(Y[0:5])"
   ]
  },
  {
   "cell_type": "code",
   "execution_count": 33,
   "id": "228e34e0-e930-435a-9ee2-02a3ef9e792b",
   "metadata": {},
   "outputs": [
    {
     "name": "stdout",
     "output_type": "stream",
     "text": [
      "Got fit!\n",
      "In-bag accuracy: 0.618638871857756\n",
      "Out-of-bag accuracy: 0.5263323872595396\n"
     ]
    }
   ],
   "source": [
    "experiment = kdf()\n",
    "experiment.fit(X[bag, :], Y[bag])\n",
    "\n",
    "print(\"Got fit!\")\n",
    "\n",
    "Yhat = experiment.predict(X[bag, :])\n",
    "acc = sum(Y[bag] == Yhat)/len(Yhat)\n",
    "\n",
    "print(f\"In-bag accuracy: {acc}\")\n",
    "\n",
    "Yhat = experiment.predict(X[oob, :])\n",
    "acc = sum(Y[oob] == Yhat)/len(Yhat)\n",
    "\n",
    "print(f\"Out-of-bag accuracy: {acc}\")\n"
   ]
  },
  {
   "cell_type": "code",
   "execution_count": 34,
   "id": "58e154f1-3758-482a-9ee0-41a211eb8298",
   "metadata": {},
   "outputs": [
    {
     "name": "stdout",
     "output_type": "stream",
     "text": [
      "[0 1 1 1 1 1 1 0 1 1]\n"
     ]
    }
   ],
   "source": [
    "print(Yhat[0:10])"
   ]
  },
  {
   "cell_type": "code",
   "execution_count": null,
   "id": "452e0281-7dbe-45ec-900b-cc431b5a8f54",
   "metadata": {},
   "outputs": [],
   "source": []
  }
 ],
 "metadata": {
  "kernelspec": {
   "display_name": "Python 3 (ipykernel)",
   "language": "python",
   "name": "python3"
  },
  "language_info": {
   "codemirror_mode": {
    "name": "ipython",
    "version": 3
   },
   "file_extension": ".py",
   "mimetype": "text/x-python",
   "name": "python",
   "nbconvert_exporter": "python",
   "pygments_lexer": "ipython3",
   "version": "3.8.10"
  }
 },
 "nbformat": 4,
 "nbformat_minor": 5
}
