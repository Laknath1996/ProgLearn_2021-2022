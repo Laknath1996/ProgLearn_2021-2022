{
  "nbformat": 4,
  "nbformat_minor": 0,
  "metadata": {
    "colab": {
      "name": "distance_vs_weight_kdf.py",
      "provenance": [],
      "collapsed_sections": []
    },
    "kernelspec": {
      "name": "python3",
      "display_name": "Python 3"
    },
    "language_info": {
      "name": "python"
    }
  },
  "cells": [
    {
      "cell_type": "code",
      "metadata": {
        "id": "ZlzOLSqpbUNe",
        "colab": {
          "base_uri": "https://localhost:8080/",
          "height": 1000
        },
        "outputId": "cc3ab3e7-98ae-4f19-dba5-665438cdfa69"
      },
      "source": [
        "#install libraries\n",
        "\n",
        "!rm -r kdg\n",
        "!git clone -b weighted_kdn https://github.com/NeuroDataDesign/kdg\n",
        "!ls\n",
        "!pip install kdg/."
      ],
      "execution_count": 1,
      "outputs": [
        {
          "output_type": "stream",
          "name": "stdout",
          "text": [
            "rm: cannot remove 'kdg': No such file or directory\n",
            "Cloning into 'kdg'...\n",
            "remote: Enumerating objects: 5974, done.\u001b[K\n",
            "remote: Counting objects: 100% (2875/2875), done.\u001b[K\n",
            "remote: Compressing objects: 100% (2520/2520), done.\u001b[K\n",
            "remote: Total 5974 (delta 787), reused 2365 (delta 353), pack-reused 3099\u001b[K\n",
            "Receiving objects: 100% (5974/5974), 209.12 MiB | 32.41 MiB/s, done.\n",
            "Resolving deltas: 100% (1742/1742), done.\n",
            "kdg  sample_data\n",
            "Processing ./kdg\n",
            "\u001b[33m  DEPRECATION: A future pip version will change local packages to be built in-place without first copying to a temporary directory. We recommend you use --use-feature=in-tree-build to test your packages with this new behavior before it becomes the default.\n",
            "   pip 21.3 will remove support for this functionality. You can find discussion regarding this at https://github.com/pypa/pip/issues/7555.\u001b[0m\n",
            "Requirement already satisfied: scikit-learn>=0.22.0 in /usr/local/lib/python3.7/dist-packages (from kdg==0.0.1) (0.22.2.post1)\n",
            "Requirement already satisfied: keras>=2.3.1 in /usr/local/lib/python3.7/dist-packages (from kdg==0.0.1) (2.6.0)\n",
            "Requirement already satisfied: scipy>=1.4.1 in /usr/local/lib/python3.7/dist-packages (from kdg==0.0.1) (1.4.1)\n",
            "Collecting numpy==1.19.2\n",
            "  Downloading numpy-1.19.2-cp37-cp37m-manylinux2010_x86_64.whl (14.5 MB)\n",
            "\u001b[K     |████████████████████████████████| 14.5 MB 34 kB/s \n",
            "\u001b[?25hRequirement already satisfied: joblib>=0.14.1 in /usr/local/lib/python3.7/dist-packages (from kdg==0.0.1) (1.0.1)\n",
            "Collecting scikit-learn>=0.23.1\n",
            "  Downloading scikit_learn-1.0.1-cp37-cp37m-manylinux_2_12_x86_64.manylinux2010_x86_64.whl (23.2 MB)\n",
            "\u001b[K     |████████████████████████████████| 23.2 MB 44.0 MB/s \n",
            "\u001b[?25hRequirement already satisfied: tensorflow>=2.2 in /usr/local/lib/python3.7/dist-packages (from kdg==0.0.1) (2.6.0)\n",
            "Collecting threadpoolctl>=2.0.0\n",
            "  Downloading threadpoolctl-3.0.0-py3-none-any.whl (14 kB)\n",
            "Requirement already satisfied: google-pasta~=0.2 in /usr/local/lib/python3.7/dist-packages (from tensorflow>=2.2->kdg==0.0.1) (0.2.0)\n",
            "Requirement already satisfied: keras-preprocessing~=1.1.2 in /usr/local/lib/python3.7/dist-packages (from tensorflow>=2.2->kdg==0.0.1) (1.1.2)\n",
            "Requirement already satisfied: protobuf>=3.9.2 in /usr/local/lib/python3.7/dist-packages (from tensorflow>=2.2->kdg==0.0.1) (3.17.3)\n",
            "Requirement already satisfied: gast==0.4.0 in /usr/local/lib/python3.7/dist-packages (from tensorflow>=2.2->kdg==0.0.1) (0.4.0)\n",
            "Requirement already satisfied: flatbuffers~=1.12.0 in /usr/local/lib/python3.7/dist-packages (from tensorflow>=2.2->kdg==0.0.1) (1.12)\n",
            "Requirement already satisfied: six~=1.15.0 in /usr/local/lib/python3.7/dist-packages (from tensorflow>=2.2->kdg==0.0.1) (1.15.0)\n",
            "Requirement already satisfied: tensorboard~=2.6 in /usr/local/lib/python3.7/dist-packages (from tensorflow>=2.2->kdg==0.0.1) (2.6.0)\n",
            "Requirement already satisfied: termcolor~=1.1.0 in /usr/local/lib/python3.7/dist-packages (from tensorflow>=2.2->kdg==0.0.1) (1.1.0)\n",
            "Requirement already satisfied: absl-py~=0.10 in /usr/local/lib/python3.7/dist-packages (from tensorflow>=2.2->kdg==0.0.1) (0.12.0)\n",
            "Requirement already satisfied: tensorflow-estimator~=2.6 in /usr/local/lib/python3.7/dist-packages (from tensorflow>=2.2->kdg==0.0.1) (2.6.0)\n",
            "Requirement already satisfied: wrapt~=1.12.1 in /usr/local/lib/python3.7/dist-packages (from tensorflow>=2.2->kdg==0.0.1) (1.12.1)\n",
            "Requirement already satisfied: astunparse~=1.6.3 in /usr/local/lib/python3.7/dist-packages (from tensorflow>=2.2->kdg==0.0.1) (1.6.3)\n",
            "Requirement already satisfied: grpcio<2.0,>=1.37.0 in /usr/local/lib/python3.7/dist-packages (from tensorflow>=2.2->kdg==0.0.1) (1.41.0)\n",
            "Requirement already satisfied: wheel~=0.35 in /usr/local/lib/python3.7/dist-packages (from tensorflow>=2.2->kdg==0.0.1) (0.37.0)\n",
            "Requirement already satisfied: h5py~=3.1.0 in /usr/local/lib/python3.7/dist-packages (from tensorflow>=2.2->kdg==0.0.1) (3.1.0)\n",
            "Requirement already satisfied: opt-einsum~=3.3.0 in /usr/local/lib/python3.7/dist-packages (from tensorflow>=2.2->kdg==0.0.1) (3.3.0)\n",
            "Requirement already satisfied: typing-extensions~=3.7.4 in /usr/local/lib/python3.7/dist-packages (from tensorflow>=2.2->kdg==0.0.1) (3.7.4.3)\n",
            "Requirement already satisfied: clang~=5.0 in /usr/local/lib/python3.7/dist-packages (from tensorflow>=2.2->kdg==0.0.1) (5.0)\n",
            "Requirement already satisfied: cached-property in /usr/local/lib/python3.7/dist-packages (from h5py~=3.1.0->tensorflow>=2.2->kdg==0.0.1) (1.5.2)\n",
            "Requirement already satisfied: werkzeug>=0.11.15 in /usr/local/lib/python3.7/dist-packages (from tensorboard~=2.6->tensorflow>=2.2->kdg==0.0.1) (1.0.1)\n",
            "Requirement already satisfied: google-auth<2,>=1.6.3 in /usr/local/lib/python3.7/dist-packages (from tensorboard~=2.6->tensorflow>=2.2->kdg==0.0.1) (1.35.0)\n",
            "Requirement already satisfied: tensorboard-data-server<0.7.0,>=0.6.0 in /usr/local/lib/python3.7/dist-packages (from tensorboard~=2.6->tensorflow>=2.2->kdg==0.0.1) (0.6.1)\n",
            "Requirement already satisfied: tensorboard-plugin-wit>=1.6.0 in /usr/local/lib/python3.7/dist-packages (from tensorboard~=2.6->tensorflow>=2.2->kdg==0.0.1) (1.8.0)\n",
            "Requirement already satisfied: setuptools>=41.0.0 in /usr/local/lib/python3.7/dist-packages (from tensorboard~=2.6->tensorflow>=2.2->kdg==0.0.1) (57.4.0)\n",
            "Requirement already satisfied: markdown>=2.6.8 in /usr/local/lib/python3.7/dist-packages (from tensorboard~=2.6->tensorflow>=2.2->kdg==0.0.1) (3.3.4)\n",
            "Requirement already satisfied: requests<3,>=2.21.0 in /usr/local/lib/python3.7/dist-packages (from tensorboard~=2.6->tensorflow>=2.2->kdg==0.0.1) (2.23.0)\n",
            "Requirement already satisfied: google-auth-oauthlib<0.5,>=0.4.1 in /usr/local/lib/python3.7/dist-packages (from tensorboard~=2.6->tensorflow>=2.2->kdg==0.0.1) (0.4.6)\n",
            "Requirement already satisfied: cachetools<5.0,>=2.0.0 in /usr/local/lib/python3.7/dist-packages (from google-auth<2,>=1.6.3->tensorboard~=2.6->tensorflow>=2.2->kdg==0.0.1) (4.2.4)\n",
            "Requirement already satisfied: rsa<5,>=3.1.4 in /usr/local/lib/python3.7/dist-packages (from google-auth<2,>=1.6.3->tensorboard~=2.6->tensorflow>=2.2->kdg==0.0.1) (4.7.2)\n",
            "Requirement already satisfied: pyasn1-modules>=0.2.1 in /usr/local/lib/python3.7/dist-packages (from google-auth<2,>=1.6.3->tensorboard~=2.6->tensorflow>=2.2->kdg==0.0.1) (0.2.8)\n",
            "Requirement already satisfied: requests-oauthlib>=0.7.0 in /usr/local/lib/python3.7/dist-packages (from google-auth-oauthlib<0.5,>=0.4.1->tensorboard~=2.6->tensorflow>=2.2->kdg==0.0.1) (1.3.0)\n",
            "Requirement already satisfied: importlib-metadata in /usr/local/lib/python3.7/dist-packages (from markdown>=2.6.8->tensorboard~=2.6->tensorflow>=2.2->kdg==0.0.1) (4.8.1)\n",
            "Requirement already satisfied: pyasn1<0.5.0,>=0.4.6 in /usr/local/lib/python3.7/dist-packages (from pyasn1-modules>=0.2.1->google-auth<2,>=1.6.3->tensorboard~=2.6->tensorflow>=2.2->kdg==0.0.1) (0.4.8)\n",
            "Requirement already satisfied: chardet<4,>=3.0.2 in /usr/local/lib/python3.7/dist-packages (from requests<3,>=2.21.0->tensorboard~=2.6->tensorflow>=2.2->kdg==0.0.1) (3.0.4)\n",
            "Requirement already satisfied: certifi>=2017.4.17 in /usr/local/lib/python3.7/dist-packages (from requests<3,>=2.21.0->tensorboard~=2.6->tensorflow>=2.2->kdg==0.0.1) (2021.5.30)\n",
            "Requirement already satisfied: idna<3,>=2.5 in /usr/local/lib/python3.7/dist-packages (from requests<3,>=2.21.0->tensorboard~=2.6->tensorflow>=2.2->kdg==0.0.1) (2.10)\n",
            "Requirement already satisfied: urllib3!=1.25.0,!=1.25.1,<1.26,>=1.21.1 in /usr/local/lib/python3.7/dist-packages (from requests<3,>=2.21.0->tensorboard~=2.6->tensorflow>=2.2->kdg==0.0.1) (1.24.3)\n",
            "Requirement already satisfied: oauthlib>=3.0.0 in /usr/local/lib/python3.7/dist-packages (from requests-oauthlib>=0.7.0->google-auth-oauthlib<0.5,>=0.4.1->tensorboard~=2.6->tensorflow>=2.2->kdg==0.0.1) (3.1.1)\n",
            "Requirement already satisfied: zipp>=0.5 in /usr/local/lib/python3.7/dist-packages (from importlib-metadata->markdown>=2.6.8->tensorboard~=2.6->tensorflow>=2.2->kdg==0.0.1) (3.6.0)\n",
            "Building wheels for collected packages: kdg\n",
            "  Building wheel for kdg (setup.py) ... \u001b[?25l\u001b[?25hdone\n",
            "  Created wheel for kdg: filename=kdg-0.0.1-py3-none-any.whl size=12892 sha256=727e384d4a1ddab179424de4a7435dc6086f6d509a2f4a6734abe8bee9e5db3b\n",
            "  Stored in directory: /tmp/pip-ephem-wheel-cache-0qufor7v/wheels/e0/72/2b/338836d1623d7accacc7f95c747f13a5ab88dbce21909f3fb0\n",
            "Successfully built kdg\n",
            "Installing collected packages: numpy, threadpoolctl, scikit-learn, kdg\n",
            "  Attempting uninstall: numpy\n",
            "    Found existing installation: numpy 1.19.5\n",
            "    Uninstalling numpy-1.19.5:\n",
            "      Successfully uninstalled numpy-1.19.5\n",
            "  Attempting uninstall: scikit-learn\n",
            "    Found existing installation: scikit-learn 0.22.2.post1\n",
            "    Uninstalling scikit-learn-0.22.2.post1:\n",
            "      Successfully uninstalled scikit-learn-0.22.2.post1\n",
            "\u001b[31mERROR: pip's dependency resolver does not currently take into account all the packages that are installed. This behaviour is the source of the following dependency conflicts.\n",
            "datascience 0.10.6 requires folium==0.2.1, but you have folium 0.8.3 which is incompatible.\n",
            "albumentations 0.1.12 requires imgaug<0.2.7,>=0.2.5, but you have imgaug 0.2.9 which is incompatible.\u001b[0m\n",
            "Successfully installed kdg-0.0.1 numpy-1.19.2 scikit-learn-1.0.1 threadpoolctl-3.0.0\n"
          ]
        },
        {
          "output_type": "display_data",
          "data": {
            "application/vnd.colab-display-data+json": {
              "pip_warning": {
                "packages": [
                  "numpy"
                ]
              }
            }
          },
          "metadata": {}
        }
      ]
    },
    {
      "cell_type": "code",
      "metadata": {
        "id": "snKfwfG98ijC"
      },
      "source": [
        "# import modules\n",
        "import numpy as np\n",
        "from numpy.random import default_rng\n",
        "from sklearn.ensemble import RandomForestClassifier as rf \n",
        "from kdg.kdf import *\n",
        "from kdg.utils import gaussian_sparse_parity, trunk_sim\n",
        "import pandas as pd\n",
        "import matplotlib.pyplot as plt\n",
        "import seaborn as sns"
      ],
      "execution_count": 1,
      "outputs": []
    },
    {
      "cell_type": "code",
      "metadata": {
        "colab": {
          "base_uri": "https://localhost:8080/"
        },
        "id": "EUuNkwJ17Tln",
        "outputId": "3dd86579-db4b-4a94-b115-a0bd0e5c3688"
      },
      "source": [
        "distances = [0.01, 0.1, 1, 2, 5]\n",
        "n_test = 10\n",
        "for d in distances:\n",
        "  print(d)\n",
        "  rand_dist = rng.random((n_test, p_star))\n",
        "  rand_dist = np.sqrt(d**2*(rand_dist/np.sum(rand_dist, axis=1)[:,None]))\n",
        "  #print(rand_dist)\n",
        "  print(np.sqrt(np.sum(rand_dist**2, axis=1)))"
      ],
      "execution_count": 32,
      "outputs": [
        {
          "output_type": "stream",
          "name": "stdout",
          "text": [
            "0.01\n",
            "[0.01 0.01 0.01 0.01 0.01 0.01 0.01 0.01 0.01 0.01]\n",
            "0.1\n",
            "[0.1 0.1 0.1 0.1 0.1 0.1 0.1 0.1 0.1 0.1]\n",
            "1\n",
            "[1. 1. 1. 1. 1. 1. 1. 1. 1. 1.]\n",
            "2\n",
            "[2. 2. 2. 2. 2. 2. 2. 2. 2. 2.]\n",
            "5\n",
            "[5. 5. 5. 5. 5. 5. 5. 5. 5. 5.]\n"
          ]
        }
      ]
    },
    {
      "cell_type": "code",
      "metadata": {
        "id": "fnH70Iop88zI"
      },
      "source": [
        "# define the experimental setup\n",
        "p = 20 # total dimensions of the data vector\n",
        "p_star = 3 # number of signal dimensions of the data vector\n",
        "'''sample_size = np.logspace(\n",
        "        np.log10(10),\n",
        "        np.log10(5000),\n",
        "        num=10,\n",
        "        endpoint=True,\n",
        "        dtype=int\n",
        "        )'''\n",
        "sample_size = 5000 # sample size under consideration\n",
        "n_test = 500 # test set size\n",
        "nTrees = 100\n",
        "compile_kwargs = {\n",
        "    \"n_estimators\": nTrees\n",
        "    }\n",
        "\n",
        "def get_kdf_weights(X_star, X_, forest):\n",
        "    polytope_star = np.array(\n",
        "        [tree.apply(X_star.reshape(1, -1)) for tree in forest.estimators_]\n",
        "        ).T\n",
        "    #print(polytope_star.shape)\n",
        "    predicted_leaf_ids_across_trees = np.array(\n",
        "        [tree.apply(X_) for tree in forest.estimators_]\n",
        "        ).T\n",
        "\n",
        "    matched_samples = np.sum(\n",
        "        predicted_leaf_ids_across_trees == polytope_star,\n",
        "        axis=1\n",
        "    )\n",
        "    #print(matched_samples)\n",
        "    idx = np.where(\n",
        "        matched_samples>0\n",
        "    )[0]\n",
        "\n",
        "    #X_star isn't included in X_ so need to scale this manually\n",
        "    scale = matched_samples[idx]/polytope_star.shape[1]\n",
        "      \n",
        "    return np.array(scale)"
      ],
      "execution_count": 2,
      "outputs": []
    },
    {
      "cell_type": "code",
      "metadata": {
        "id": "-stv1CP48f-u"
      },
      "source": [
        "X, y = gaussian_sparse_parity(\n",
        "    sample_size,\n",
        "    p_star=p_star,\n",
        "    p=p\n",
        ")\n",
        "\n",
        "X_test, y_test = gaussian_sparse_parity(\n",
        "    n_test,\n",
        "    p_star=p_star,\n",
        "    p=p\n",
        ")\n",
        "\n",
        "#%%\n",
        "# train Vanilla RF\n",
        "vanilla_rf = rf(**compile_kwargs).fit(X, y)\n",
        "\n",
        "# pick a random point from testing data \n",
        "rng = default_rng(0)\n",
        "idx = rng.integers(0, sample_size)\n",
        "X_star = X[idx]\n",
        "\n",
        "#generate a bunch of points\n",
        "#distances = np.logspace(-20, 1, num=22, base=10)\n",
        "distances = np.linspace(0, 10, num=100)\n",
        "X_dist_static = {}\n",
        "X_dist_noisy = {}\n",
        "for d in distances:\n",
        "  #print(d)\n",
        "  rand_dist = rng.random((n_test, p_star))\n",
        "  rand_dist = np.sqrt((d**2)*(rand_dist/np.sum(rand_dist, axis=1)[:,None]))\n",
        "  static_noise = X_star[3:] + np.zeros((n_test, p-p_star))\n",
        "  random_noise = 2*rng.random((n_test,p-p_star))-1\n",
        "  X_dist_static[d] = np.concatenate((X_star[:3] + rand_dist, static_noise), axis=1)\n",
        "  X_dist_noisy[d] = np.concatenate((X_star[:3] + rand_dist, random_noise), axis=1)"
      ],
      "execution_count": 51,
      "outputs": []
    },
    {
      "cell_type": "code",
      "metadata": {
        "colab": {
          "base_uri": "https://localhost:8080/",
          "height": 514
        },
        "id": "BVRJVjft8pls",
        "outputId": "83fcc920-7e96-46a6-9f82-eb5a54e132a1"
      },
      "source": [
        "# plot distance vs. weights\n",
        "weights_s = [get_kdf_weights(X_star, X_dist_static[x], vanilla_rf) for x in X_dist]\n",
        "weight_med_s = [np.median(w) for w in weights_s]\n",
        "weight_25q_s = [np.quantile(w, 0.25) for w in weights_s]\n",
        "weight_75q_s = [np.quantile(w, 0.75) for w in weights_s]\n",
        "\n",
        "weights_n = [get_kdf_weights(X_star, X_dist_noisy[x], vanilla_rf) for x in X_dist]\n",
        "weight_med_n = [np.median(w) for w in weights_n]\n",
        "weight_25q_n = [np.quantile(w, 0.25) for w in weights_n]\n",
        "weight_75q_n = [np.quantile(w, 0.75) for w in weights_n]\n",
        "\n",
        "sns.set_context('talk')\n",
        "\n",
        "fig, ax = plt.subplots(1,1, figsize=(8,8))\n",
        "#ax.set_xscale(\"log\")\n",
        "ax.plot(distances, weight_med_s, c=\"r\", label='KDF Static Noise')\n",
        "ax.plot(distances, weight_med_n, c=\"k\", label='KDF Random Noise')\n",
        "ax.fill_between(distances, weight_25q_s, weight_75q_s, facecolor='r', alpha=.3)\n",
        "ax.fill_between(distances, weight_25q_n, weight_75q_n, facecolor='k', alpha=.3)\n",
        "ax.legend()"
      ],
      "execution_count": 52,
      "outputs": [
        {
          "output_type": "execute_result",
          "data": {
            "text/plain": [
              "<matplotlib.legend.Legend at 0x7ff0622cc790>"
            ]
          },
          "metadata": {},
          "execution_count": 52
        },
        {
          "output_type": "display_data",
          "data": {
            "image/png": "[encoded data removed]",
            "text/plain": [
              "<Figure size 576x576 with 1 Axes>"
            ]
          },
          "metadata": {
            "needs_background": "light"
          }
        }
      ]
    },
    {
      "cell_type": "code",
      "metadata": {
        "colab": {
          "base_uri": "https://localhost:8080/"
        },
        "id": "nCV9-Bz-KVv7",
        "outputId": "de621dbf-487c-46f8-89f8-87c20097266d"
      },
      "source": [
        "print(f\"Mean number of samples per polytopes: {np.mean(RF_weight_sizes)} (range: {np.min(RF_weight_sizes)}, {np.max(RF_weight_sizes)})\")\n",
        "print(f\"Mean weight of samples in polytopes: {np.mean(RF_weight_mean):.4f}\")\n",
        "print(f\"Median weight of samples in polytopes: {np.median(RF_weight_median)}\")"
      ],
      "execution_count": null,
      "outputs": [
        {
          "output_type": "stream",
          "name": "stdout",
          "text": [
            "Mean number of samples per polytopes: 325.6078431372549 (range: 17, 431)\n",
            "Mean weight of samples in polytopes: 0.0160\n",
            "Median weight of samples in polytopes: 0.004878048780487805\n"
          ]
        }
      ]
    }
  ]
}