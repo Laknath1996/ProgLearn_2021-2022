{
 "cells": [
  {
   "cell_type": "markdown",
   "id": "41fd9fdc-f82e-4910-a67a-b3ec0daeb6d9",
   "metadata": {},
   "source": [
    "# How to Run UncertaintyForest"
   ]
  },
  {
   "cell_type": "code",
   "execution_count": 1,
   "id": "8c4d5876-15a6-46ea-8857-7e141a49cac0",
   "metadata": {},
   "outputs": [],
   "source": [
    "from proglearn.forest import UncertaintyForest\n",
    "from proglearn.sims import generate_gaussian_parity"
   ]
  },
  {
   "cell_type": "code",
   "execution_count": 2,
   "id": "2ca49e60-36bb-4dba-8f64-ccd3fd5decc5",
   "metadata": {},
   "outputs": [],
   "source": [
    "# Real Params.\n",
    "n_train = 10000 # number of training data points\n",
    "n_test = 1000 # number of testing data points\n",
    "num_trials = 10 # number of trials\n",
    "n_estimators = 100 # number of estimators"
   ]
  },
  {
   "cell_type": "code",
   "execution_count": 3,
   "id": "a6d5b917-a02a-47f4-ab67-969a9d774305",
   "metadata": {},
   "outputs": [],
   "source": [
    "X, y = generate_gaussian_parity(n_train + n_test)"
   ]
  },
  {
   "cell_type": "code",
   "execution_count": 4,
   "id": "0ecfbd55-cb93-4526-9a66-318a53d1e592",
   "metadata": {},
   "outputs": [
    {
     "data": {
      "text/plain": [
       "array([[ 0.43503382,  0.28197312],\n",
       "       [ 0.28808161, -0.26392483],\n",
       "       [ 0.07690528, -0.42289757],\n",
       "       [-0.10287837, -0.68003394],\n",
       "       [ 0.99486141,  0.72911124]])"
      ]
     },
     "execution_count": 4,
     "metadata": {},
     "output_type": "execute_result"
    }
   ],
   "source": [
    "X[:5]"
   ]
  },
  {
   "cell_type": "code",
   "execution_count": 5,
   "id": "fb0db8a5-4a0b-4647-b1e4-83158d1515b7",
   "metadata": {},
   "outputs": [
    {
     "data": {
      "text/plain": [
       "array([1, 0, 0, 1, 1])"
      ]
     },
     "execution_count": 5,
     "metadata": {},
     "output_type": "execute_result"
    }
   ],
   "source": [
    "y[:5]"
   ]
  },
  {
   "cell_type": "code",
   "execution_count": 6,
   "id": "1da9b54d-0194-4fc3-87b9-68a1bf7876e0",
   "metadata": {},
   "outputs": [],
   "source": [
    "X_train = X[0:n_train] # Takes the first n_train number of data points and saves as X_train\n",
    "y_train = y[0:n_train] # same as above for the labels\n",
    "X_test = X[n_train:] # Takes the remainder of the data (n_test data points) and saves as X_test\n",
    "y_test = y[n_train:] # same as above for the labels"
   ]
  },
  {
   "cell_type": "code",
   "execution_count": 7,
   "id": "1bf84a18-062d-411e-8e78-3a2c542932c7",
   "metadata": {},
   "outputs": [],
   "source": [
    "UF = UncertaintyForest(n_estimators=n_estimators)"
   ]
  },
  {
   "cell_type": "code",
   "execution_count": 8,
   "id": "91fe180b-d341-48eb-bf3d-caa0827b2897",
   "metadata": {},
   "outputs": [
    {
     "data": {
      "text/plain": [
       "<proglearn.progressive_learner.ClassificationProgressiveLearner at 0x7f5c092fd610>"
      ]
     },
     "execution_count": 8,
     "metadata": {},
     "output_type": "execute_result"
    }
   ],
   "source": [
    "UF.fit(X_train, y_train)"
   ]
  },
  {
   "cell_type": "code",
   "execution_count": 9,
   "id": "08d80820-c3b7-465e-926c-ff718816351a",
   "metadata": {},
   "outputs": [],
   "source": [
    "X_test, y_test = generate_gaussian_parity(n_test) # creates the test data"
   ]
  },
  {
   "cell_type": "code",
   "execution_count": 10,
   "id": "d349f830-e3b6-4b9d-8b6f-159e1f107553",
   "metadata": {},
   "outputs": [],
   "source": [
    "predictions = UF.predict(X_test) # predict the class labels of the test data"
   ]
  },
  {
   "cell_type": "code",
   "execution_count": 11,
   "id": "cf88c058-6241-4f24-b690-21a8c3b091c3",
   "metadata": {},
   "outputs": [],
   "source": [
    "accuracy = sum(predictions == y_test) / n_test"
   ]
  },
  {
   "cell_type": "code",
   "execution_count": 12,
   "id": "be4981af-5728-41a7-8497-cd62b8d71f59",
   "metadata": {},
   "outputs": [
    {
     "name": "stdout",
     "output_type": "stream",
     "text": [
      "0.956\n"
     ]
    }
   ],
   "source": [
    "print(accuracy)"
   ]
  },
  {
   "cell_type": "code",
   "execution_count": null,
   "id": "2f8d8c2b-7821-4014-8425-d71ce9e6787a",
   "metadata": {},
   "outputs": [],
   "source": []
  }
 ],
 "metadata": {
  "kernelspec": {
   "display_name": "Python 3",
   "language": "python",
   "name": "python3"
  },
  "language_info": {
   "codemirror_mode": {
    "name": "ipython",
    "version": 3
   },
   "file_extension": ".py",
   "mimetype": "text/x-python",
   "name": "python",
   "nbconvert_exporter": "python",
   "pygments_lexer": "ipython3",
   "version": "3.8.11"
  }
 },
 "nbformat": 4,
 "nbformat_minor": 5
}
