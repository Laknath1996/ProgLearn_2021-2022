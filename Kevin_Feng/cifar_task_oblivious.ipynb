{
 "cells": [
  {
   "cell_type": "code",
   "execution_count": 27,
   "id": "089471a6",
   "metadata": {},
   "outputs": [],
   "source": [
    "# Import necessary packages\n",
    "import numpy as np\n",
    "import keras\n",
    "import tensorflow as tf\n",
    "import sklearn.model_selection\n",
    "import sklearn.preprocessing\n",
    "from sklearn.ensemble import RandomForestClassifier"
   ]
  },
  {
   "cell_type": "code",
   "execution_count": 118,
   "id": "423110ea",
   "metadata": {},
   "outputs": [],
   "source": [
    "# cifar 100, classes 1-10 task 1, 11-20 task, 21-30 task 3, etc.\n",
    "# load data using keras, not used yet \n",
    "\n",
    "(X_train, y_train), (X_test, y_test) = tf.keras.datasets.cifar100.load_data()"
   ]
  },
  {
   "cell_type": "code",
   "execution_count": 119,
   "id": "21e34163",
   "metadata": {
    "scrolled": true
   },
   "outputs": [
    {
     "name": "stdout",
     "output_type": "stream",
     "text": [
      "(50000, 32, 32, 3) (50000, 1)\n",
      "(10000, 32, 32, 3) (10000, 1)\n"
     ]
    },
    {
     "data": {
      "text/plain": [
       "array([[19],\n",
       "       [29],\n",
       "       [ 0],\n",
       "       ...,\n",
       "       [ 3],\n",
       "       [ 7],\n",
       "       [73]])"
      ]
     },
     "execution_count": 119,
     "metadata": {},
     "output_type": "execute_result"
    }
   ],
   "source": [
    "print(X_train.shape, y_train.shape)\n",
    "print(X_test.shape, y_test.shape)\n",
    "y_train # this is the fine label of each image "
   ]
  },
  {
   "cell_type": "code",
   "execution_count": 87,
   "id": "76bfcd0d",
   "metadata": {},
   "outputs": [],
   "source": [
    "# get label names, train data, and test data\n",
    "def unpickle(file):\n",
    "    import pickle\n",
    "\n",
    "    with open(file, \"rb\") as fo:\n",
    "        dict = pickle.load(fo, encoding=\"bytes\")\n",
    "    return dict\n",
    "\n",
    "\n",
    "label_names = unpickle(\n",
    "    \"/Users/kevin/Documents/SCHOOL/NDD_21-22/test/proglearn/docs/cifar-100-python/meta\"\n",
    ")\n",
    "data_train = unpickle(\n",
    "    \"/Users/kevin/Documents/SCHOOL/NDD_21-22/test/proglearn/docs/cifar-100-python/train\"\n",
    ")\n",
    "data_test = unpickle(\n",
    "    \"/Users/kevin/Documents/SCHOOL/NDD_21-22/test/proglearn/docs/cifar-100-python/test\"\n",
    ")"
   ]
  },
  {
   "cell_type": "code",
   "execution_count": 114,
   "id": "e7b2da1e",
   "metadata": {},
   "outputs": [
    {
     "name": "stdout",
     "output_type": "stream",
     "text": [
      "label_names keys: dict_keys([b'fine_label_names', b'coarse_label_names'])\n"
     ]
    }
   ],
   "source": [
    "# 10 label names per task, 100 fine label names total = 10 tasks total\n",
    "print(\"label_names keys:\", label_names.keys())  # keys of dictionary label_names\n",
    "\n",
    "task1 = label_names[b\"fine_label_names\"][0:10]\n",
    "task2 = label_names[b\"fine_label_names\"][10:20]\n",
    "task3 = label_names[b\"fine_label_names\"][20:30]\n",
    "task4 = label_names[b\"fine_label_names\"][30:40]\n",
    "task5 = label_names[b\"fine_label_names\"][40:50]\n",
    "task6 = label_names[b\"fine_label_names\"][50:60]\n",
    "task7 = label_names[b\"fine_label_names\"][60:70]\n",
    "task8 = label_names[b\"fine_label_names\"][70:80]\n",
    "task9 = label_names[b\"fine_label_names\"][80:90]\n",
    "task10 = label_names[b\"fine_label_names\"][90:100]\n",
    "\n",
    "allTasks = [task1, task2, task3, task4, task5, task6, task7, task8, task9, task10]"
   ]
  },
  {
   "cell_type": "code",
   "execution_count": 121,
   "id": "593dedd6",
   "metadata": {},
   "outputs": [
    {
     "name": "stdout",
     "output_type": "stream",
     "text": [
      "data_train keys: dict_keys([b'filenames', b'batch_label', b'fine_labels', b'coarse_labels', b'data'])\n",
      "data_test keys: dict_keys([b'filenames', b'batch_label', b'fine_labels', b'coarse_labels', b'data'])\n"
     ]
    },
    {
     "data": {
      "text/plain": [
       "(50000, 3072)"
      ]
     },
     "execution_count": 121,
     "metadata": {},
     "output_type": "execute_result"
    }
   ],
   "source": [
    "print(\"data_train keys:\", data_train.keys())\n",
    "print(\"data_test keys:\", data_test.keys())\n",
    "\n",
    "data_train[b\"data\"].shape #, data_train[b\"fine_labels\"]\n",
    "\n",
    "# X_train2 ="
   ]
  },
  {
   "cell_type": "code",
   "execution_count": 102,
   "id": "8fc830f9",
   "metadata": {},
   "outputs": [
    {
     "data": {
      "text/plain": [
       "RandomForestClassifier(random_state=42)"
      ]
     },
     "execution_count": 102,
     "metadata": {},
     "output_type": "execute_result"
    }
   ],
   "source": [
    "# Import the model we are using\n",
    "from sklearn.ensemble import RandomForestClassifier\n",
    "\n",
    "# Instantiate model\n",
    "rf = RandomForestClassifier(n_estimators=100, random_state=42)\n",
    "\n",
    "rf.fit(data_train[b\"data\"], data_train[b\"fine_labels\"])"
   ]
  },
  {
   "cell_type": "code",
   "execution_count": 110,
   "id": "55383cde",
   "metadata": {},
   "outputs": [],
   "source": [
    "# y (label) predictions \n",
    "test_prediction = rf.predict(data_test[b\"data\"]) == data_test[b\"fine_labels\"]"
   ]
  },
  {
   "cell_type": "code",
   "execution_count": 113,
   "id": "83fc77c9",
   "metadata": {},
   "outputs": [
    {
     "name": "stdout",
     "output_type": "stream",
     "text": [
      "True: 2252 \n",
      "False: 7748\n"
     ]
    }
   ],
   "source": [
    "print(\n",
    "    \"True:\",\n",
    "    np.count_nonzero(test_prediction),\n",
    "    \"\\nFalse:\",\n",
    "    test_prediction.size - np.count_nonzero(test_prediction),\n",
    ")"
   ]
  },
  {
   "cell_type": "code",
   "execution_count": 122,
   "id": "9cf34fa8",
   "metadata": {},
   "outputs": [
    {
     "data": {
      "text/plain": [
       "0.2252"
      ]
     },
     "execution_count": 122,
     "metadata": {},
     "output_type": "execute_result"
    }
   ],
   "source": [
    "rf.score(data_test[b'data'], data_test[b'fine_labels'])"
   ]
  },
  {
   "cell_type": "code",
   "execution_count": 123,
   "id": "93359f29",
   "metadata": {},
   "outputs": [],
   "source": [
    "# np.savetxt('prediction.csv', test_prediction)"
   ]
  },
  {
   "cell_type": "code",
   "execution_count": null,
   "id": "01e85395",
   "metadata": {},
   "outputs": [],
   "source": []
  }
 ],
 "metadata": {
  "kernelspec": {
   "display_name": "Python 3",
   "language": "python",
   "name": "python3"
  },
  "language_info": {
   "codemirror_mode": {
    "name": "ipython",
    "version": 3
   },
   "file_extension": ".py",
   "mimetype": "text/x-python",
   "name": "python",
   "nbconvert_exporter": "python",
   "pygments_lexer": "ipython3",
   "version": "3.8.8"
  }
 },
 "nbformat": 4,
 "nbformat_minor": 5
}
