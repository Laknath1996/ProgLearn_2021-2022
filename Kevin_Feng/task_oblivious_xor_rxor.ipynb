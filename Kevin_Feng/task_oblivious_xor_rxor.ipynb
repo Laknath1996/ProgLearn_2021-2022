{
 "cells": [
  {
   "cell_type": "code",
   "execution_count": 27,
   "id": "68845742",
   "metadata": {},
   "outputs": [],
   "source": [
    "import numpy as np\n",
    "import random\n",
    "from proglearn.sims import generate_gaussian_parity\n",
    "import matplotlib.pyplot as plt\n",
    "\n",
    "# k sample testing from hyppo\n",
    "from hyppo.ksample import KSample\n",
    "from hyppo.tools import rot_ksamp\n",
    "\n",
    "from proglearn.forest import LifelongClassificationForest, UncertaintyForest\n",
    "from proglearn.sims import *\n",
    "from proglearn.progressive_learner import ProgressiveLearner\n",
    "from proglearn.deciders import SimpleArgmaxAverage\n",
    "from proglearn.transformers import (\n",
    "    TreeClassificationTransformer,\n",
    "    NeuralClassificationTransformer,\n",
    ")\n",
    "from proglearn.voters import TreeClassificationVoter, KNNClassificationVoter\n",
    "\n",
    "from joblib import Parallel, delayed\n",
    "\n",
    "from math import log2, ceil"
   ]
  },
  {
   "cell_type": "code",
   "execution_count": 61,
   "id": "f71ea366",
   "metadata": {},
   "outputs": [],
   "source": [
    "# define angles\n",
    "angles = range(0, 95, 5)\n",
    "\n",
    "# samples to use per distribution\n",
    "n_samples = 500\n",
    "\n",
    "# generate xor\n",
    "X_xor, y_xor = generate_gaussian_parity(n_samples)\n",
    "\n",
    "# define array to store gen error\n",
    "gen_error = np.zeros(len(angles))\n",
    "\n",
    "# number of repetitions to run the omnidirectional learning algorithm\n",
    "mc_rep = 100"
   ]
  },
  {
   "cell_type": "code",
   "execution_count": 132,
   "id": "4212db92",
   "metadata": {},
   "outputs": [],
   "source": [
    "def experiment(n_samples, X_xor, y_xor, rxor_angle, max_depth=None, n_trees=10):\n",
    "    # generate rxor\n",
    "    X_rxor, y_rxor = generate_gaussian_parity(n_samples, angle_params=rxor_angle)\n",
    "\n",
    "    progressive_learner = LifelongClassificationForest(default_n_estimators=n_trees)\n",
    "    # uf1 = LifelongClassificationForest(default_n_estimators=n_trees)\n",
    "\n",
    "    # p value <= 0.05 learn new transformer\n",
    "    if KSample(indep_test=\"Dcorr\").test(X_xor, X_rxor)[1] <= 0.05:\n",
    "        progressive_learner.add_task(X_xor, y_xor, n_estimators=n_trees)\n",
    "        progressive_learner.add_task(X_rxor, y_rxor, n_estimators=n_trees, task_id=1)\n",
    "        progressive_learner.add_transformer(X_rxor, y_rxor, n_estimators=n_trees)\n",
    "        predict_2task = progressive_learner.predict(X_rxor, task_id=1)\n",
    "        gen_err = 1 - np.mean(predict_2task == y_rxor)\n",
    "    else:\n",
    "        # else continue adding xor data\n",
    "        progressive_learner.add_task(X_xor, y_xor, n_estimators=n_trees)\n",
    "        predict_2task = progressive_learner.predict(X_rxor, task_id=0)\n",
    "        gen_err = 1 - np.mean(predict_2task == y_rxor)\n",
    "    return gen_err"
   ]
  },
  {
   "cell_type": "code",
   "execution_count": 133,
   "id": "6ce0b70c",
   "metadata": {},
   "outputs": [],
   "source": [
    "# run experiment with varying angles\n",
    "for i, angle in enumerate(range(0, 95, 5)):\n",
    "    error = np.array(\n",
    "        Parallel(n_jobs=-1, verbose=0)(\n",
    "            delayed(experiment)(\n",
    "                n_samples,\n",
    "                X_xor,\n",
    "                y_xor,\n",
    "                rxor_angle=np.radians(angle),\n",
    "                max_depth=ceil(log2(n_samples)),\n",
    "            )\n",
    "            for _ in range(mc_rep)\n",
    "        )\n",
    "    )\n",
    "    gen_error[i] = np.mean(error)"
   ]
  },
  {
   "cell_type": "code",
   "execution_count": 135,
   "id": "59f5b29d",
   "metadata": {
    "scrolled": true
   },
   "outputs": [
    {
     "data": {
      "text/plain": [
       "[<matplotlib.lines.Line2D at 0x24cb444af40>]"
      ]
     },
     "execution_count": 135,
     "metadata": {},
     "output_type": "execute_result"
    },
    {
     "data": {
      "image/png": "[encoded data removed]",
      "text/plain": [
       "<Figure size 432x288 with 1 Axes>"
      ]
     },
     "metadata": {
      "needs_background": "light"
     },
     "output_type": "display_data"
    }
   ],
   "source": [
    "# plot angles vs gen error\n",
    "plt.xlabel(\"Angle\")\n",
    "plt.xticks(np.arange(min(angles), max(angles)+5, 10.0))\n",
    "plt.ylabel(\"Generalization Error\")\n",
    "plt.plot(angles, gen_error)"
   ]
  },
  {
   "cell_type": "code",
   "execution_count": null,
   "id": "2fee6985",
   "metadata": {},
   "outputs": [],
   "source": []
  }
 ],
 "metadata": {
  "kernelspec": {
   "display_name": "Python 3",
   "language": "python",
   "name": "python3"
  },
  "language_info": {
   "codemirror_mode": {
    "name": "ipython",
    "version": 3
   },
   "file_extension": ".py",
   "mimetype": "text/x-python",
   "name": "python",
   "nbconvert_exporter": "python",
   "pygments_lexer": "ipython3",
   "version": "3.8.8"
  }
 },
 "nbformat": 4,
 "nbformat_minor": 5
}
