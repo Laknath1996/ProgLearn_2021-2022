{
 "cells": [
  {
   "cell_type": "code",
   "execution_count": 14,
   "id": "321b9744",
   "metadata": {},
   "outputs": [],
   "source": [
    "import numpy as np \n",
    "from sklearn.datasets import make_blobs\n",
    "from numpy.random import uniform, normal\n",
    "import matplotlib.pyplot as plt"
   ]
  },
  {
   "cell_type": "code",
   "execution_count": 22,
   "id": "afe95b24",
   "metadata": {},
   "outputs": [],
   "source": [
    "# functions from kdg used to generate xor and rxor\n",
    "\n",
    "def generate_gaussian_parity(\n",
    "    n_samples,\n",
    "    centers=None,\n",
    "    class_label=None,\n",
    "    cluster_std=0.25,\n",
    "    center_box=(-1.0,1.0),\n",
    "    angle_params=None,\n",
    "    random_state=None,\n",
    "):\n",
    "    \"\"\"\n",
    "    Generate 2-dimensional Gaussian XOR distribution.\n",
    "    (Classic XOR problem but each point is the\n",
    "    center of a Gaussian blob distribution)\n",
    "    Parameters\n",
    "    ----------\n",
    "    n_samples : int\n",
    "        Total number of points divided among the four\n",
    "        clusters with equal probability.\n",
    "    centers : array of shape [n_centers,2], optional (default=None)\n",
    "        The coordinates of the ceneter of total n_centers blobs.\n",
    "    class_label : array of shape [n_centers], optional (default=None)\n",
    "        class label for each blob.\n",
    "    cluster_std : float, optional (default=1)\n",
    "        The standard deviation of the blobs.\n",
    "    center_box : tuple of float (min, max), default=(-1.0, 1.0)\n",
    "        The bounding box for each cluster center when centers are generated at random.\n",
    "    angle_params: float, optional (default=None)\n",
    "        Number of radians to rotate the distribution by.\n",
    "    random_state : int, RandomState instance, default=None\n",
    "        Determines random number generation for dataset creation. Pass an int\n",
    "        for reproducible output across multiple function calls.\n",
    "    Returns\n",
    "    -------\n",
    "    X : array of shape [n_samples, 2]\n",
    "        The generated samples.\n",
    "    y : array of shape [n_samples]\n",
    "        The integer labels for cluster membership of each sample.\n",
    "    \"\"\"\n",
    "\n",
    "    if random_state != None:\n",
    "        np.random.seed(random_state)\n",
    "\n",
    "    if centers == None:\n",
    "        centers = np.array([(-0.5, 0.5), (0.5, 0.5), (-0.5, -0.5), (0.5, -0.5)])\n",
    "\n",
    "    if class_label == None:\n",
    "        class_label = [0, 1, 1, 0]\n",
    "\n",
    "    blob_num = len(class_label)\n",
    "\n",
    "    # get the number of samples in each blob with equal probability\n",
    "    samples_per_blob = np.random.multinomial(\n",
    "        n_samples, 1 / blob_num * np.ones(blob_num)\n",
    "    )\n",
    "\n",
    "    X, y = make_blobs(\n",
    "        n_samples=samples_per_blob,\n",
    "        n_features=2,\n",
    "        centers=centers,\n",
    "        cluster_std=cluster_std,\n",
    "        center_box=center_box\n",
    "    )\n",
    "\n",
    "    for blob in range(blob_num):\n",
    "        y[np.where(y == blob)] = class_label[blob]\n",
    "\n",
    "    if angle_params != None:\n",
    "        R = _generate_2d_rotation(angle_params)\n",
    "        X = X @ R\n",
    "\n",
    "    return X, y.astype(int)\n",
    "\n",
    "def _generate_2d_rotation(theta=0):\n",
    "    R = np.array([[np.cos(theta), np.sin(theta)], [-np.sin(theta), np.cos(theta)]])\n",
    "\n",
    "    return R"
   ]
  },
  {
   "cell_type": "code",
   "execution_count": 107,
   "id": "0f28653b",
   "metadata": {},
   "outputs": [],
   "source": [
    "n_samples = 100\n",
    "xor = generate_gaussian_parity(n_samples, random_state = 777)\n",
    "rxor = generate_gaussian_parity(n_samples, angle_params=np.pi/4, random_state = 777)"
   ]
  },
  {
   "cell_type": "code",
   "execution_count": 108,
   "id": "f698f63a",
   "metadata": {
    "scrolled": true
   },
   "outputs": [],
   "source": [
    "from hyppo.ksample import KSample\n",
    "from hyppo.tools import rot_ksamp\n",
    "\n",
    "stat, pvalue = KSample(indep_test=\"Dcorr\").test(xor[0], rxor[0])"
   ]
  },
  {
   "cell_type": "code",
   "execution_count": 109,
   "id": "41189ef6",
   "metadata": {},
   "outputs": [
    {
     "data": {
      "text/plain": [
       "(0.002403641841014316, 0.22366059711007466)"
      ]
     },
     "execution_count": 109,
     "metadata": {},
     "output_type": "execute_result"
    }
   ],
   "source": [
    "stat, pvalue"
   ]
  },
  {
   "cell_type": "code",
   "execution_count": 140,
   "id": "b2dc5f0e",
   "metadata": {},
   "outputs": [],
   "source": [
    "angle_sweep = range(0, 360, 1)\n",
    "stats = np.empty([360,10])\n",
    "pvals = np.empty([360,10])\n",
    "xor = generate_gaussian_parity(n_samples, random_state = 777)\n",
    "for n in angle_sweep:\n",
    "    rxor = generate_gaussian_parity(n_samples, angle_params=np.radians(n), random_state = 777)\n",
    "    stats[n], pvals[n] = KSample(indep_test=\"Dcorr\").test(xor[0], rxor[0])"
   ]
  },
  {
   "cell_type": "code",
   "execution_count": 141,
   "id": "a9c2f7a4",
   "metadata": {},
   "outputs": [
    {
     "data": {
      "text/plain": [
       "[<matplotlib.lines.Line2D at 0x7f944f09fb50>,\n",
       " <matplotlib.lines.Line2D at 0x7f944f09fc40>,\n",
       " <matplotlib.lines.Line2D at 0x7f944f09fd00>,\n",
       " <matplotlib.lines.Line2D at 0x7f944f09fdc0>,\n",
       " <matplotlib.lines.Line2D at 0x7f944f09fe80>,\n",
       " <matplotlib.lines.Line2D at 0x7f944f09ff40>,\n",
       " <matplotlib.lines.Line2D at 0x7f944f0aa040>,\n",
       " <matplotlib.lines.Line2D at 0x7f944f0aa100>,\n",
       " <matplotlib.lines.Line2D at 0x7f944f0aa1c0>,\n",
       " <matplotlib.lines.Line2D at 0x7f944f0aa280>]"
      ]
     },
     "execution_count": 141,
     "metadata": {},
     "output_type": "execute_result"
    },
    {
     "data": {
      "image/png": "[encoded data removed]",
      "text/plain": [
       "<Figure size 432x288 with 1 Axes>"
      ]
     },
     "metadata": {
      "needs_background": "light"
     },
     "output_type": "display_data"
    }
   ],
   "source": [
    "plt.xlabel('Angle')\n",
    "plt.ylabel('P-values')\n",
    "plt.plot(angle_sweep, pvals)"
   ]
  },
  {
   "cell_type": "code",
   "execution_count": 142,
   "id": "5b5db48b",
   "metadata": {},
   "outputs": [
    {
     "data": {
      "text/plain": [
       "[<matplotlib.lines.Line2D at 0x7f945a9bd2e0>]"
      ]
     },
     "execution_count": 142,
     "metadata": {},
     "output_type": "execute_result"
    },
    {
     "data": {
      "image/png": "[encoded data removed]",
      "text/plain": [
       "<Figure size 432x288 with 1 Axes>"
      ]
     },
     "metadata": {
      "needs_background": "light"
     },
     "output_type": "display_data"
    }
   ],
   "source": [
    "# import pandas as pd\n",
    "# df_pvals = pd.DataFrame(pvals)\n",
    "# pval_means = df_pvals.mean(axis=1)\n",
    "angle_sweep = range(0, 360, 1)\n",
    "stats = np.empty([360,10])\n",
    "pvals = np.empty([360,10])\n",
    "for k in range(10):\n",
    "    xor = generate_gaussian_parity(n_samples, random_state = k)\n",
    "    for n in angle_sweep:\n",
    "        rxor = generate_gaussian_parity(n_samples, angle_params=np.radians(n), random_state = k)\n",
    "        stats[n,k], pvals[n,k] = KSample(indep_test=\"Dcorr\").test(xor[0], rxor[0])\n",
    "\n",
    "pval_means = np.mean(pvals, axis=1)\n",
    "plt.xlabel('Angle')\n",
    "plt.ylabel('P-values')\n",
    "plt.plot(angle_sweep, pval_means)"
   ]
  },
  {
   "cell_type": "code",
   "execution_count": null,
   "id": "c228d2b4",
   "metadata": {},
   "outputs": [],
   "source": []
  }
 ],
 "metadata": {
  "kernelspec": {
   "display_name": "Python 3",
   "language": "python",
   "name": "python3"
  },
  "language_info": {
   "codemirror_mode": {
    "name": "ipython",
    "version": 3
   },
   "file_extension": ".py",
   "mimetype": "text/x-python",
   "name": "python",
   "nbconvert_exporter": "python",
   "pygments_lexer": "ipython3",
   "version": "3.8.8"
  }
 },
 "nbformat": 4,
 "nbformat_minor": 5
}
