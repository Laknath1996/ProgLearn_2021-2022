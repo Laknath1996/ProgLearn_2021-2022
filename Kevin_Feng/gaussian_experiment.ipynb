{
 "cells": [
  {
   "cell_type": "code",
   "execution_count": 1,
   "id": "321b9744",
   "metadata": {},
   "outputs": [],
   "source": [
    "import numpy as np \n",
    "from sklearn.datasets import make_blobs\n",
    "from numpy.random import uniform, normal\n",
    "import matplotlib.pyplot as plt"
   ]
  },
  {
   "cell_type": "code",
   "execution_count": 2,
   "id": "afe95b24",
   "metadata": {},
   "outputs": [],
   "source": [
    "# functions from kdg used to generate xor and rxor\n",
    "\n",
    "def generate_gaussian_parity(\n",
    "    n_samples,\n",
    "    centers=None,\n",
    "    class_label=None,\n",
    "    cluster_std=0.25,\n",
    "    center_box=(-1.0,1.0),\n",
    "    angle_params=None,\n",
    "    random_state=None,\n",
    "):\n",
    "    \"\"\"\n",
    "    Generate 2-dimensional Gaussian XOR distribution.\n",
    "    (Classic XOR problem but each point is the\n",
    "    center of a Gaussian blob distribution)\n",
    "    Parameters\n",
    "    ----------\n",
    "    n_samples : int\n",
    "        Total number of points divided among the four\n",
    "        clusters with equal probability.\n",
    "    centers : array of shape [n_centers,2], optional (default=None)\n",
    "        The coordinates of the ceneter of total n_centers blobs.\n",
    "    class_label : array of shape [n_centers], optional (default=None)\n",
    "        class label for each blob.\n",
    "    cluster_std : float, optional (default=1)\n",
    "        The standard deviation of the blobs.\n",
    "    center_box : tuple of float (min, max), default=(-1.0, 1.0)\n",
    "        The bounding box for each cluster center when centers are generated at random.\n",
    "    angle_params: float, optional (default=None)\n",
    "        Number of radians to rotate the distribution by.\n",
    "    random_state : int, RandomState instance, default=None\n",
    "        Determines random number generation for dataset creation. Pass an int\n",
    "        for reproducible output across multiple function calls.\n",
    "    Returns\n",
    "    -------\n",
    "    X : array of shape [n_samples, 2]\n",
    "        The generated samples.\n",
    "    y : array of shape [n_samples]\n",
    "        The integer labels for cluster membership of each sample.\n",
    "    \"\"\"\n",
    "\n",
    "    if random_state != None:\n",
    "        np.random.seed(random_state)\n",
    "\n",
    "    if centers == None:\n",
    "        centers = np.array([(-0.5, 0.5), (0.5, 0.5), (-0.5, -0.5), (0.5, -0.5)])\n",
    "\n",
    "    if class_label == None:\n",
    "        class_label = [0, 1, 1, 0]\n",
    "\n",
    "    blob_num = len(class_label)\n",
    "\n",
    "    # get the number of samples in each blob with equal probability\n",
    "    samples_per_blob = np.random.multinomial(\n",
    "        n_samples, 1 / blob_num * np.ones(blob_num)\n",
    "    )\n",
    "\n",
    "    X, y = make_blobs(\n",
    "        n_samples=samples_per_blob,\n",
    "        n_features=2,\n",
    "        centers=centers,\n",
    "        cluster_std=cluster_std,\n",
    "        center_box=center_box\n",
    "    )\n",
    "\n",
    "    for blob in range(blob_num):\n",
    "        y[np.where(y == blob)] = class_label[blob]\n",
    "\n",
    "    if angle_params != None:\n",
    "        R = _generate_2d_rotation(angle_params)\n",
    "        X = X @ R\n",
    "\n",
    "    return X, y.astype(int)\n",
    "\n",
    "def _generate_2d_rotation(theta=0):\n",
    "    R = np.array([[np.cos(theta), np.sin(theta)], [-np.sin(theta), np.cos(theta)]])\n",
    "\n",
    "    return R"
   ]
  },
  {
   "cell_type": "code",
   "execution_count": 3,
   "id": "0f28653b",
   "metadata": {},
   "outputs": [],
   "source": [
    "# xor, rxor\n",
    "n_samples = 100\n",
    "xor = generate_gaussian_parity(n_samples, random_state = 777)\n",
    "rxor = generate_gaussian_parity(n_samples, angle_params=np.pi/4, random_state = 777)"
   ]
  },
  {
   "cell_type": "code",
   "execution_count": 4,
   "id": "f698f63a",
   "metadata": {
    "scrolled": true
   },
   "outputs": [],
   "source": [
    "# k sample testing from hyppo\n",
    "from hyppo.ksample import KSample\n",
    "from hyppo.tools import rot_ksamp\n",
    "\n",
    "stat, pvalue = KSample(indep_test=\"Dcorr\").test(xor[0], rxor[0])"
   ]
  },
  {
   "cell_type": "code",
   "execution_count": 5,
   "id": "41189ef6",
   "metadata": {},
   "outputs": [
    {
     "data": {
      "text/plain": [
       "(0.002403641841014302, 0.22366059711007513)"
      ]
     },
     "execution_count": 5,
     "metadata": {},
     "output_type": "execute_result"
    }
   ],
   "source": [
    "stat, pvalue"
   ]
  },
  {
   "cell_type": "code",
   "execution_count": 6,
   "id": "b2dc5f0e",
   "metadata": {},
   "outputs": [],
   "source": [
    "# set angle range\n",
    "angle_sweep = range(0, 90, 1)\n",
    "\n",
    "# num of samples\n",
    "n_samples = 100\n",
    "\n",
    "# vars to store stats and pvals\n",
    "stats_100 = np.empty([90,1])\n",
    "pvals_100 = np.empty([90,1])\n",
    "\n",
    "# run exp \n",
    "xor = generate_gaussian_parity(n_samples, random_state = 777)\n",
    "for n in angle_sweep:\n",
    "    rxor = generate_gaussian_parity(n_samples, angle_params=np.radians(n), random_state = 777)\n",
    "    stats_100[n], pvals_100[n] = KSample(indep_test=\"Dcorr\").test(xor[0], rxor[0])\n",
    "    \n",
    "# num of samples\n",
    "n_samples = 500\n",
    "\n",
    "# vars to store stats and pvals\n",
    "stats_500 = np.empty([90,1])\n",
    "pvals_500 = np.empty([90,1])\n",
    "\n",
    "# run exp \n",
    "xor = generate_gaussian_parity(n_samples, random_state = 777)\n",
    "for n in angle_sweep:\n",
    "    rxor = generate_gaussian_parity(n_samples, angle_params=np.radians(n), random_state = 777)\n",
    "    stats_500[n], pvals_500[n] = KSample(indep_test=\"Dcorr\").test(xor[0], rxor[0])\n",
    "    \n",
    "# num of samples\n",
    "n_samples = 1000\n",
    "\n",
    "# vars to store stats and pvals\n",
    "stats_1000 = np.empty([90,1])\n",
    "pvals_1000 = np.empty([90,1])\n",
    "\n",
    "# run exp \n",
    "xor = generate_gaussian_parity(n_samples, random_state = 777)\n",
    "for n in angle_sweep:\n",
    "    rxor = generate_gaussian_parity(n_samples, angle_params=np.radians(n), random_state = 777)\n",
    "    stats_1000[n], pvals_1000[n] = KSample(indep_test=\"Dcorr\").test(xor[0], rxor[0])"
   ]
  },
  {
   "cell_type": "code",
   "execution_count": 31,
   "id": "a9c2f7a4",
   "metadata": {},
   "outputs": [
    {
     "data": {
      "text/plain": [
       "<matplotlib.legend.Legend at 0x2df2c84b400>"
      ]
     },
     "execution_count": 31,
     "metadata": {},
     "output_type": "execute_result"
    },
    {
     "data": {
      "image/png": "[encoded data removed]",
      "text/plain": [
       "<Figure size 432x288 with 1 Axes>"
      ]
     },
     "metadata": {
      "needs_background": "light"
     },
     "output_type": "display_data"
    }
   ],
   "source": [
    "# plot \n",
    "plt.xlabel('Angle')\n",
    "plt.ylabel('P-values')\n",
    "plt.plot(angle_sweep, pvals_100, label = '100 samples', color = 'r')\n",
    "plt.plot(angle_sweep, pvals_500, label = '500 samples', color = 'b')\n",
    "plt.plot(angle_sweep, pvals_1000, label = '1000 samples', color = 'cyan')\n",
    "\n",
    "# draw line at p val = 0.05\n",
    "plt.axhline(y=0.05, color='g', linestyle='--')\n",
    "\n",
    "plt.show\n",
    "plt.legend()\n",
    "# plt.savefig('gaussian.pdf')"
   ]
  },
  {
   "cell_type": "code",
   "execution_count": 8,
   "id": "5b5db48b",
   "metadata": {},
   "outputs": [],
   "source": [
    "# import pandas as pd\n",
    "# df_pvals = pd.DataFrame(pvals)\n",
    "# pval_means = df_pvals.mean(axis=1)\n",
    "# run above exp 10 times and take averages\n",
    "\n",
    "# set angle range\n",
    "angle_sweep = range(0, 90, 1)\n",
    "\n",
    "# arrays to store stats and pvals, 100 samples\n",
    "stats_100_10 = np.empty([90,10])\n",
    "pvals_100_10 = np.empty([90,10])\n",
    "\n",
    "# arrays to store stats and pvals. 500 samples\n",
    "stats_500_10 = np.empty([90,10])\n",
    "pvals_500_10 = np.empty([90,10])\n",
    "\n",
    "# arrays to store stats and pvals, 1000 samples\n",
    "stats_1000_10 = np.empty([90,10])\n",
    "pvals_1000_10 = np.empty([90,10])\n",
    "\n",
    "# run exp 10 times\n",
    "for k in range(10):\n",
    "    for n in angle_sweep:\n",
    "        # 100 samples\n",
    "        n_samples = 100\n",
    "        xor = generate_gaussian_parity(n_samples, random_state = k)\n",
    "        rxor = generate_gaussian_parity(n_samples, angle_params=np.radians(n), random_state = k)      \n",
    "        stats_100_10[n,k], pvals_100_10[n,k] = KSample(indep_test=\"Dcorr\").test(xor[0], rxor[0])\n",
    "        \n",
    "        # 500 samples\n",
    "        n_samples = 500\n",
    "        xor = generate_gaussian_parity(n_samples, random_state = k)\n",
    "        rxor = generate_gaussian_parity(n_samples, angle_params=np.radians(n), random_state = k)      \n",
    "        stats_500_10[n,k], pvals_500_10[n,k] = KSample(indep_test=\"Dcorr\").test(xor[0], rxor[0])\n",
    "        \n",
    "        # 1000 samples\n",
    "        n_samples = 1000\n",
    "        xor = generate_gaussian_parity(n_samples, random_state = k)\n",
    "        rxor = generate_gaussian_parity(n_samples, angle_params=np.radians(n), random_state = k)      \n",
    "        stats_1000_10[n,k], pvals_1000_10[n,k] = KSample(indep_test=\"Dcorr\").test(xor[0], rxor[0])"
   ]
  },
  {
   "cell_type": "code",
   "execution_count": 30,
   "id": "c228d2b4",
   "metadata": {},
   "outputs": [
    {
     "data": {
      "text/plain": [
       "<matplotlib.legend.Legend at 0x2df2ca62b80>"
      ]
     },
     "execution_count": 30,
     "metadata": {},
     "output_type": "execute_result"
    },
    {
     "data": {
      "image/png": "[encoded data removed]",
      "text/plain": [
       "<Figure size 432x288 with 1 Axes>"
      ]
     },
     "metadata": {
      "needs_background": "light"
     },
     "output_type": "display_data"
    }
   ],
   "source": [
    "# avg the 10 experiments \n",
    "pval_means_100 = np.mean(pvals_100_10, axis=1)\n",
    "pval_means_500 = np.mean(pvals_500_10, axis=1)\n",
    "pval_means_1000 = np.mean(pvals_1000_10, axis=1)\n",
    "\n",
    "# add error bars\n",
    "qunatiles_100 = np.nanquantile(pvals_100_10,[.25,.75],axis=1)\n",
    "qunatiles_500 = np.nanquantile(pvals_500_10,[.25,.75],axis=1)\n",
    "qunatiles_1000 = np.nanquantile(pvals_1000_10,[.25,.75],axis=1)\n",
    "plt.fill_between(angle_sweep, qunatiles_100[0], qunatiles_100[1], facecolor='r', alpha=.3)\n",
    "plt.fill_between(angle_sweep, qunatiles_500[0], qunatiles_500[1], facecolor='b', alpha=.3)\n",
    "plt.fill_between(angle_sweep, qunatiles_1000[0], qunatiles_1000[1], facecolor='cyan', alpha=.3)\n",
    "\n",
    "# plot\n",
    "plt.xlabel('Angle')\n",
    "plt.ylabel('P-values')\n",
    "plt.plot(angle_sweep, pval_means_100, label = '100 samples', color = 'r')\n",
    "plt.plot(angle_sweep, pval_means_500, label = '500 samples', color = 'b')\n",
    "plt.plot(angle_sweep, pval_means_1000, label = '1000 samples', color = 'cyan')\n",
    "\n",
    "# draw line at p val = 0.05\n",
    "plt.axhline(y=0.05, color='g', linestyle='--')\n",
    "\n",
    "plt.show\n",
    "plt.legend()\n",
    "\n",
    "# plt.savefig('10exp_gaussian.pdf')"
   ]
  },
  {
   "cell_type": "code",
   "execution_count": null,
   "id": "7cbf53c4",
   "metadata": {},
   "outputs": [],
   "source": []
  }
 ],
 "metadata": {
  "kernelspec": {
   "display_name": "Python 3",
   "language": "python",
   "name": "python3"
  },
  "language_info": {
   "codemirror_mode": {
    "name": "ipython",
    "version": 3
   },
   "file_extension": ".py",
   "mimetype": "text/x-python",
   "name": "python",
   "nbconvert_exporter": "python",
   "pygments_lexer": "ipython3",
   "version": "3.8.8"
  }
 },
 "nbformat": 4,
 "nbformat_minor": 5
}
