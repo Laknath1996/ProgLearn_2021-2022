{
 "cells": [
  {
   "cell_type": "code",
   "execution_count": 1,
   "id": "2426ba78",
   "metadata": {},
   "outputs": [],
   "source": [
    "import numpy as np\n",
    "import random\n",
    "from proglearn.sims import generate_gaussian_parity\n",
    "import matplotlib.pyplot as plt\n",
    "\n",
    "# k sample testing from hyppo\n",
    "from hyppo.ksample import KSample\n",
    "from hyppo.tools import rot_ksamp\n",
    "\n",
    "from proglearn.forest import LifelongClassificationForest, UncertaintyForest\n",
    "from proglearn.sims import *\n",
    "from proglearn.progressive_learner import ProgressiveLearner\n",
    "from proglearn.deciders import SimpleArgmaxAverage\n",
    "from proglearn.transformers import (\n",
    "    TreeClassificationTransformer,\n",
    "    NeuralClassificationTransformer,\n",
    ")\n",
    "from proglearn.voters import TreeClassificationVoter, KNNClassificationVoter\n",
    "\n",
    "from joblib import Parallel, delayed\n",
    "\n",
    "from math import log2, ceil"
   ]
  },
  {
   "cell_type": "code",
   "execution_count": 2,
   "id": "cd88f1b2",
   "metadata": {},
   "outputs": [],
   "source": [
    "# define angle\n",
    "angle = np.pi / 4\n",
    "# samples to use per distribution\n",
    "n_samples = 1000\n",
    "# generate xor\n",
    "X_xor, y_xor = generate_gaussian_parity(n_samples)\n",
    "# generate most adversarial rxor\n",
    "X_rxor, y_rxor = generate_gaussian_parity(n_samples, angle_params=angle)"
   ]
  },
  {
   "cell_type": "code",
   "execution_count": 3,
   "id": "14973183",
   "metadata": {},
   "outputs": [],
   "source": [
    "# define number of estimators to use\n",
    "n_trees = 10\n",
    "\n",
    "# train single run of model\n",
    "progressive_learner = LifelongClassificationForest(default_n_estimators=n_trees)\n",
    "# add xor data\n",
    "progressive_learner.add_task(X_xor, y_xor, n_estimators=n_trees)\n",
    "# k sample test, add new task rxor and learn new transformer if p <= 0.05 \n",
    "if KSample(indep_test=\"Dcorr\").test(X_xor, X_rxor)[1] <= 0.05:\n",
    "    progressive_learner.add_task(X_rxor, y_rxor, n_estimators=n_trees)\n",
    "    progressive_learner.add_transformer(X_rxor, y_rxor, n_estimators=n_trees)\n",
    "else:\n",
    "    # else add concatenated xor and rxor data \n",
    "    X_xor_rxor = np.concatenate((X_xor, X_rxor), axis=0)\n",
    "    y_xor_rxor = np.concatenate((y_xor, y_rxor), axis=0)\n",
    "    progressive_learner.add_task(X_xor_rxor, y_xor_rxor, n_estimators=n_trees)\n"
   ]
  },
  {
   "cell_type": "code",
   "execution_count": null,
   "id": "cc1554f7",
   "metadata": {},
   "outputs": [],
   "source": []
  }
 ],
 "metadata": {
  "kernelspec": {
   "display_name": "Python 3",
   "language": "python",
   "name": "python3"
  },
  "language_info": {
   "codemirror_mode": {
    "name": "ipython",
    "version": 3
   },
   "file_extension": ".py",
   "mimetype": "text/x-python",
   "name": "python",
   "nbconvert_exporter": "python",
   "pygments_lexer": "ipython3",
   "version": "3.8.8"
  }
 },
 "nbformat": 4,
 "nbformat_minor": 5
}
